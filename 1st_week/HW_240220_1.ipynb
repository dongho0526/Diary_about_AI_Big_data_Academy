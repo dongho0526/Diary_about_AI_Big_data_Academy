{
 "cells": [
  {
   "cell_type": "code",
   "execution_count": 3,
   "id": "9c8bc8dd",
   "metadata": {},
   "outputs": [
    {
     "name": "stdout",
     "output_type": "stream",
     "text": [
      "300\n",
      "7\n",
      "12\n"
     ]
    }
   ],
   "source": [
    "#함수 정의\n",
    "def add(a, b):\n",
    "    result = a + b\n",
    "    return result\n",
    "\n",
    "#함수 호출\n",
    "add_result = add(100, 200)\n",
    "print(add_result)\n",
    "\n",
    "def add3add5():\n",
    "    return 8\n",
    "\n",
    "def print_this(s):\n",
    "    print(s)\n",
    "    \n",
    "def add_and_mul(a, b):\n",
    "    return (a+b, a*b)\n",
    "\n",
    "add_res, mul_res = add_and_mul(3, 4)\n",
    "print(add_res)\n",
    "print(mul_res)"
   ]
  },
  {
   "cell_type": "markdown",
   "id": "7c27f43b",
   "metadata": {},
   "source": [
    "## 실습 1\n",
    "len() 구현 (len()을 사용하지 않고 구현할 것"
   ]
  },
  {
   "cell_type": "code",
   "execution_count": 18,
   "id": "e7c8289e",
   "metadata": {},
   "outputs": [
    {
     "name": "stdout",
     "output_type": "stream",
     "text": [
      "6 14\n",
      "6 14\n"
     ]
    }
   ],
   "source": [
    "def my_len(x): # input: 리스트, 문자열\n",
    "    length = 0\n",
    "    for _ in x:\n",
    "        length += 1\n",
    "    return length\n",
    "\n",
    "a = [5, 5, 6, 7, 8, 3]\n",
    "b = 'Life is short.'\n",
    "print(len(a), len(b))\n",
    "print(my_len(a), my_len(b)) "
   ]
  },
  {
   "cell_type": "markdown",
   "id": "3be33928",
   "metadata": {},
   "source": [
    "## 실습 2\n",
    "양의 정수 a와 b를 전달받아 a부터 b까지 곱해서 반환하는 mult 함수를 작성하시오."
   ]
  },
  {
   "cell_type": "code",
   "execution_count": 26,
   "id": "3cf56559",
   "metadata": {},
   "outputs": [
    {
     "name": "stdout",
     "output_type": "stream",
     "text": [
      "6\n",
      "120\n"
     ]
    }
   ],
   "source": [
    "def mult(a, b):\n",
    "    ans = 1\n",
    "    for num in range(a, b+1):\n",
    "        ans *= num\n",
    "    return ans\n",
    "\n",
    "print(mult(1, 3))\n",
    "print(mult(2, 5))"
   ]
  },
  {
   "cell_type": "code",
   "execution_count": 27,
   "id": "68270674",
   "metadata": {},
   "outputs": [
    {
     "name": "stdout",
     "output_type": "stream",
     "text": [
      "6\n",
      "120\n"
     ]
    }
   ],
   "source": [
    "def mult(a, b):\n",
    "    result = 1\n",
    "    \n",
    "    for i in range(a, b+1): # i: a ~ b\n",
    "        # result = result * i\n",
    "        result *= i\n",
    "        \n",
    "    return result\n",
    "\n",
    "print(mult(1, 3))\n",
    "print(mult(2, 5))"
   ]
  },
  {
   "cell_type": "markdown",
   "id": "15931097",
   "metadata": {},
   "source": [
    "## 실습3\n",
    "숫자로 구성된 리스트를 전달받아, 리스트에서 양수 값을 더한 결과와 음\n",
    "수 값을 더한 결과를 반환하는 함수를 작성하시오."
   ]
  },
  {
   "cell_type": "code",
   "execution_count": 16,
   "id": "d510a706",
   "metadata": {},
   "outputs": [],
   "source": [
    "def sum_pos_neg(l): #input: list of numbers\n",
    "    possum, negsum = 0, 0\n",
    "    for value in l:\n",
    "        if value > 0:\n",
    "            possum += value\n",
    "        else:\n",
    "            negsum += value\n",
    "    return possum, negsum"
   ]
  },
  {
   "cell_type": "code",
   "execution_count": 35,
   "id": "f8b107e9",
   "metadata": {},
   "outputs": [
    {
     "name": "stdout",
     "output_type": "stream",
     "text": [
      "7 -9\n",
      "1 -1\n"
     ]
    }
   ],
   "source": [
    "possum, negsum = sum_pos_neg([3,4,-6,-3])\n",
    "print(possum,negsum) # 7 -9\n",
    "mylist = [0,0,0,0,0,0,0,0,0,1,-1]\n",
    "possum2, negsum2 = sum_pos_neg(mylist)\n",
    "print(possum2,negsum2) # 1 -1"
   ]
  },
  {
   "cell_type": "code",
   "execution_count": 36,
   "id": "d88e3c70",
   "metadata": {},
   "outputs": [],
   "source": [
    "def sum_pos_neg(l): # input: list of numbers\n",
    "    possum, negsum = 0, 0\n",
    "    for i in l :\n",
    "        if i > 0 :\n",
    "            # possum = possum + i\n",
    "            possum += i\n",
    "        else:\n",
    "            negsum += i\n",
    "    return possum, negsum"
   ]
  },
  {
   "cell_type": "code",
   "execution_count": 60,
   "id": "d4bee9ee",
   "metadata": {},
   "outputs": [
    {
     "name": "stdout",
     "output_type": "stream",
     "text": [
      "7 -9\n",
      "1 -1\n"
     ]
    }
   ],
   "source": [
    "possum, negsum = sum_pos_neg([3,4,-6,-3])\n",
    "print(possum,negsum) # 7 -9\n",
    "mylist = [0,0,0,0,0,0,0,0,0,1,-1]\n",
    "possum2, negsum2 = sum_pos_neg(mylist)\n",
    "print(possum2,negsum2) # 1 -1"
   ]
  },
  {
   "cell_type": "code",
   "execution_count": 62,
   "id": "211b6d74",
   "metadata": {},
   "outputs": [],
   "source": [
    "def count_even(*n):\n",
    "    cnt = 0\n",
    "    for v in n:\n",
    "        if v % 2 == 0:\n",
    "            cnt += 1\n",
    "    return cnt"
   ]
  },
  {
   "cell_type": "markdown",
   "id": "126ecc23",
   "metadata": {},
   "source": [
    "## 실습4 - 가변 매개변수\n",
    "1개 이상의 2차원 벡터들을 전달받아 벡터들의 합을 구하여 반환하는 함\n",
    "수를 작성하시오."
   ]
  },
  {
   "cell_type": "code",
   "execution_count": 84,
   "id": "8eb89000",
   "metadata": {},
   "outputs": [
    {
     "name": "stdout",
     "output_type": "stream",
     "text": [
      "[1.5, 1.5] [7.5, 5.5] [4.13, 2.72]\n"
     ]
    }
   ],
   "source": [
    "def vector_sum(vector, *vectors):\n",
    "    result = [0, 0]\n",
    "    for v in vectors:\n",
    "        result[0] += v[0]\n",
    "        result[1] += v[1]\n",
    "    result[0] += vector[0]\n",
    "    result[1] += vector[1]\n",
    "    return result\n",
    "\n",
    "v1=[0, 1]\n",
    "v2=[0.5, 0.5]\n",
    "v3=[1, 0]\n",
    "v4=[6, 4]\n",
    "v5=[3.13, 2.72]\n",
    "m1 = vector_sum(v1, v2, v3)\n",
    "m2 = vector_sum(v1, v2, v3, v4)\n",
    "m3 = vector_sum(v3, v5)\n",
    "print(m1,m2,m3)\n",
    "# [1.5, 1.5], [7.5, 5.5], [4.13, 2.72]"
   ]
  },
  {
   "cell_type": "code",
   "execution_count": 96,
   "id": "9151bb73",
   "metadata": {},
   "outputs": [
    {
     "name": "stdout",
     "output_type": "stream",
     "text": [
      "[1.5, 1.5] [7.5, 5.5] [3.13, 3.72]\n"
     ]
    }
   ],
   "source": [
    "def vector_sum(vector, *vectors):\n",
    "    # vector : v1 [0, 1]\n",
    "    # vectors : (v2, v3) ([0.5, 0.5], [1, 0])\n",
    "    #result = v1\n",
    "    result = [v1[0], v1[1]]\n",
    "    \n",
    "    for v in vectors:\n",
    "        result[0] = result[0] + v[0]\n",
    "        result[1] = result[1] + v[1]\n",
    "    return result\n",
    "    \n",
    "\n",
    "v1=[0, 1]\n",
    "v2=[0.5, 0.5]\n",
    "v3=[1, 0]\n",
    "v4=[6, 4]\n",
    "v5=[3.13, 2.72]\n",
    "m1 = vector_sum(v1, v2, v3)\n",
    "m2 = vector_sum(v1, v2, v3, v4)\n",
    "m3 = vector_sum(v3, v5)\n",
    "print(m1,m2,m3)\n",
    "# [1.5, 1.5], [7.5, 5.5], [4.13, 2.72]"
   ]
  },
  {
   "cell_type": "code",
   "execution_count": 101,
   "id": "69866066",
   "metadata": {},
   "outputs": [
    {
     "name": "stdout",
     "output_type": "stream",
     "text": [
      "My name is Gildong Hong.\n",
      "My name is Gildong Kim.\n"
     ]
    }
   ],
   "source": [
    "def print_name(first, second='Kim'): #second 변수 기본값 'Kim'\n",
    "    print ('My name is', first, second + '.')\n",
    "#함수 호출\n",
    "print_name('Gildong', 'Hong')\n",
    "print_name('Gildong') #second 변수에 대응되는 값을 주지 않았으므로\n",
    "#정의할 때 지정한 'Kim'을 가짐"
   ]
  },
  {
   "cell_type": "code",
   "execution_count": 102,
   "id": "79085cdf",
   "metadata": {},
   "outputs": [
    {
     "name": "stdout",
     "output_type": "stream",
     "text": [
      "60\n"
     ]
    },
    {
     "data": {
      "text/plain": [
       "60"
      ]
     },
     "execution_count": 102,
     "metadata": {},
     "output_type": "execute_result"
    }
   ],
   "source": [
    "def calc(x, y=0, z=0) :\n",
    "    return x+y+z\n",
    "result = calc(y=20, x=10, z=30)\n",
    "print(result)\n",
    "# 매개변수 순서 상관 없음\n",
    "calc(y=20, x=10)\n",
    "# 정상\n",
    "calc(10, y=30, z=20) # 정상"
   ]
  },
  {
   "cell_type": "markdown",
   "id": "561298b6",
   "metadata": {},
   "source": [
    "## 실습5 - 디폴트 매개변수\n",
    "숫자로 구성된 리스트 2개를 받아서 이 두 리스트를 합친 후에 정렬한 새로운 리스트를 반환하는 함수를 작성하시오.\n",
    "단, 매개변수의 값이 주어지지 않으면, [0]이 기본적으로 주어진다."
   ]
  },
  {
   "cell_type": "code",
   "execution_count": 118,
   "id": "19ab34b0",
   "metadata": {},
   "outputs": [
    {
     "name": "stdout",
     "output_type": "stream",
     "text": [
      "[1, 1, 2, 2, 3, 5, 9]\n",
      "[0, 4, 6, 9]\n",
      "[0, 0]\n"
     ]
    }
   ],
   "source": [
    "def merge_list(first = [0], second = [0]):\n",
    "    return sorted(first + second)\n",
    "\n",
    "l = [3, 5, 9, 1, 2]\n",
    "ml1 = merge_list(l,[2,1])\n",
    "ml2 = merge_list([6,9,4])\n",
    "ml3 = merge_list()\n",
    "print(ml1) # [1, 1, 2, 2, 3, 5, 9]\n",
    "print(ml2) # [0, 4, 6, 9]\n",
    "print(ml3) # [0, 0]"
   ]
  },
  {
   "cell_type": "code",
   "execution_count": 119,
   "id": "8c7f5a84",
   "metadata": {},
   "outputs": [
    {
     "name": "stdout",
     "output_type": "stream",
     "text": [
      "[1, 1, 2, 2, 3, 5, 9]\n",
      "[0, 4, 6, 9]\n",
      "[0, 0]\n"
     ]
    }
   ],
   "source": [
    "def merge_list(l1 =[0], l2=[0]):\n",
    "    l3 = l1 + l2\n",
    "    return sorted(l3)\n",
    "\n",
    "l = [3, 5, 9, 1, 2]\n",
    "ml1 = merge_list(l,[2,1])\n",
    "ml2 = merge_list([6,9,4])\n",
    "ml3 = merge_list()\n",
    "print(ml1) # [1, 1, 2, 2, 3, 5, 9]\n",
    "print(ml2) # [0, 4, 6, 9]\n",
    "print(ml3) # [0, 0]"
   ]
  },
  {
   "cell_type": "code",
   "execution_count": 122,
   "id": "2b1803dd",
   "metadata": {},
   "outputs": [
    {
     "name": "stdout",
     "output_type": "stream",
     "text": [
      "30\n"
     ]
    }
   ],
   "source": [
    "# def add_value(a, b) :\n",
    "#     add_res = a + b\n",
    "#     return add_res\n",
    "# x = 10\n",
    "# y = 20\n",
    "# res = add_value(x, y)\n",
    "# print(add_res) # 에러 발생\n",
    "\n",
    "def addX(_x) :\n",
    "    return x + _x\n",
    "x = 10\n",
    "y = 20\n",
    "res = addX(y)\n",
    "print(res) # 30"
   ]
  },
  {
   "cell_type": "code",
   "execution_count": 126,
   "id": "a06af636",
   "metadata": {},
   "outputs": [
    {
     "name": "stdout",
     "output_type": "stream",
     "text": [
      "30\n"
     ]
    }
   ],
   "source": [
    "# def addX(_x) :\n",
    "#     x = x + _x # 에러 발생\n",
    "# x = 10\n",
    "# y = 20\n",
    "\n",
    "# addX(y)\n",
    "# print(x)\n",
    "\n",
    "def addX(_x) :\n",
    "    global x # 전역변수임을 명시\n",
    "    x = x + _x\n",
    "\n",
    "x = 10\n",
    "y = 20\n",
    "addX(y)\n",
    "print(x)"
   ]
  },
  {
   "cell_type": "code",
   "execution_count": 129,
   "id": "d03de5a3",
   "metadata": {},
   "outputs": [
    {
     "name": "stdout",
     "output_type": "stream",
     "text": [
      "10\n",
      "[1, 5, 2, 3, 4]\n"
     ]
    },
    {
     "data": {
      "text/plain": [
       "[4, 5, 1]"
      ]
     },
     "execution_count": 129,
     "metadata": {},
     "output_type": "execute_result"
    }
   ],
   "source": [
    "import random\n",
    "\n",
    "a = 10\n",
    "b = 20\n",
    "print(random.randint(a, b))\n",
    "\n",
    "random.randrange(a, b+1)\n",
    "\n",
    "Ls = [1, 2, 3, 4, 5]\n",
    "random.shuffle(Ls)\n",
    "print(Ls)\n",
    "\n",
    "random.sample([1, 2, 3, 4, 5, 6], 3)"
   ]
  },
  {
   "cell_type": "markdown",
   "id": "3db5bb40",
   "metadata": {},
   "source": [
    "## 실습6\n",
    "점심 메뉴 리스트에서 임의로 하나의 메뉴를 골라 정해주는 프로그램을 완성하시오."
   ]
  },
  {
   "cell_type": "code",
   "execution_count": 133,
   "id": "ce113076",
   "metadata": {},
   "outputs": [
    {
     "name": "stdout",
     "output_type": "stream",
     "text": [
      "오늘 점심은 파스타입니다.\n"
     ]
    }
   ],
   "source": [
    "from random import randint \n",
    "menu = ['된장찌개', '부대찌개', '김치찌개', '삼계탕', '파스타', '돈까스', '쌀국수']\n",
    "print('오늘 점심은 {}입니다.'.format(menu[randint(0, len(menu) - 1)]))"
   ]
  },
  {
   "cell_type": "code",
   "execution_count": 134,
   "id": "ee7f40dd",
   "metadata": {},
   "outputs": [
    {
     "name": "stdout",
     "output_type": "stream",
     "text": [
      "오늘 점심은 쌀국수입니다.\n"
     ]
    }
   ],
   "source": [
    "import random\n",
    "\n",
    "menu = ['된장찌개', '부대찌개', '김치찌개', '삼계탕', '파스타', '돈까스', '쌀국수']\n",
    "\n",
    "c = random.choice(menu)\n",
    "print('오늘 점심은 ' + c + '입니다.')"
   ]
  },
  {
   "cell_type": "markdown",
   "id": "39b20ef8",
   "metadata": {},
   "source": [
    "## 실습7\n",
    "로또 추첨 프로그램\n",
    "5개의 로또 번호 조합을 출력해주는 프로그램을 작성\n",
    "1~45 숫자 중 6개를 임의로 선택 후 정렬하여 출력\n",
    "단, 중복된 번호를 가질 수 없음"
   ]
  },
  {
   "cell_type": "code",
   "execution_count": 135,
   "id": "244ca2a7",
   "metadata": {},
   "outputs": [
    {
     "name": "stdout",
     "output_type": "stream",
     "text": [
      "** 로또 번호 자동 기입을 시작합니다 **\n",
      "1번째 자동 기입 ==> 8 19 0 5 14 36 \n",
      "2번째 자동 기입 ==> 37 22 28 34 20 45 \n",
      "3번째 자동 기입 ==> 2 6 40 11 29 43 \n",
      "4번째 자동 기입 ==> 12 26 32 18 9 21 \n",
      "5번째 자동 기입 ==> 38 24 15 13 1 17 \n"
     ]
    }
   ],
   "source": [
    "print('** 로또 번호 자동 기입을 시작합니다 **')\n",
    "\n",
    "lotto = []\n",
    "for i in range(30):\n",
    "    a = randint(0,45)\n",
    "    while a in lotto:\n",
    "        a = randint(0,45)\n",
    "    lotto.append(a)\n",
    "\n",
    "for i in range(0,5):\n",
    "    print('{}번째 자동 기입 ==> '.format(i+1), end='')\n",
    "    for j in range(0,6):\n",
    "        print('{}'.format(lotto[i*6+j]), end=' ')\n",
    "    print()"
   ]
  },
  {
   "cell_type": "code",
   "execution_count": 137,
   "id": "7e7bd88b",
   "metadata": {},
   "outputs": [
    {
     "name": "stdout",
     "output_type": "stream",
     "text": [
      "** 로또 번호 자동 기입을 시작합니다 **\n",
      "1번째 자동 기입 ==>  22 15 16 26 2 25\n",
      "2번째 자동 기입 ==>  39 16 18 3 21 28\n",
      "3번째 자동 기입 ==>  2 7 14 37 21 24\n",
      "4번째 자동 기입 ==>  41 34 21 32 18 5\n",
      "5번째 자동 기입 ==>  24 4 19 30 25 1\n"
     ]
    }
   ],
   "source": [
    "print(\"** 로또 번호 자동 기입을 시작합니다 **\")\n",
    "\n",
    "for i in range(5): # i : 0 ~ 4\n",
    "    # 출력 1: \"몇번째 자동 기입 ==> 자\n",
    "    print( str(i+1)+\"번째 자동 기입 ==> \", end= ' ')\n",
    "    \n",
    "    # 출력 2: 6개의 랜덤한 숫자\n",
    "    lotto = random.sample(range(1, 46), 6)\n",
    "    print(*lotto) # * 붙이면 띄어서 출력됨"
   ]
  },
  {
   "cell_type": "markdown",
   "id": "f4e1a3f0",
   "metadata": {},
   "source": [
    "## 실습8\n",
    "숫자로 구성된 리스트를 전달받아 최댓값, 최솟값을 반환하고, 두 수를 리스트에서 제거하는 함수를 작성하시오."
   ]
  },
  {
   "cell_type": "code",
   "execution_count": 136,
   "id": "c0fe4bc9",
   "metadata": {},
   "outputs": [
    {
     "name": "stdout",
     "output_type": "stream",
     "text": [
      "1\n",
      "9\n",
      "[3, 5, 2]\n"
     ]
    }
   ],
   "source": [
    "def get_min_max(l): # input: A list of numbers\n",
    "    min_val = min(l)\n",
    "    max_val = max(l)\n",
    "    l.remove(min_val)\n",
    "    l.remove(max_val)\n",
    "    return min_val, max_val\n",
    "\n",
    "l = [3, 5, 9, 1, 2]\n",
    "min_val, max_val = get_min_max(l)\n",
    "print(min_val)\n",
    "print(max_val)\n",
    "print(l)"
   ]
  },
  {
   "cell_type": "code",
   "execution_count": null,
   "id": "5493da6e",
   "metadata": {},
   "outputs": [],
   "source": [
    "def get_min_max(l):\n",
    "    min_val = min(l)\n",
    "    max_val = max(l)\n",
    "    \n",
    "    # min_val, max_val removed from l\n",
    "    l.remove(min_val)\n",
    "    l.remove(max_val)\n",
    "    \n",
    "    return min_val, max_val\n",
    "\n",
    "l = [3, 5, 9, 1, 2]\n",
    "min_val, max_val = get_min_max(l)\n",
    "print(min_val)\n",
    "print(max_val)\n",
    "print(l)"
   ]
  },
  {
   "cell_type": "markdown",
   "id": "3806c27d",
   "metadata": {},
   "source": [
    "## 실습9\n",
    "두 딕셔너리를 전달받아 각 딕셔너리에 등장한 값을 모두 더한 새로운 딕셔너리를 반환하는 함수 comb_dict()를 작성하시오."
   ]
  },
  {
   "cell_type": "code",
   "execution_count": 141,
   "id": "449a06aa",
   "metadata": {},
   "outputs": [
    {
     "name": "stdout",
     "output_type": "stream",
     "text": [
      "{'a': 3, 'b': 3, 'd': 7, 'e': 9, 'c': 4}\n",
      "{'a': 1, 'b': 3, 'd': 7, 'e': 8}\n"
     ]
    }
   ],
   "source": [
    "def comb_dict(d1, d2):\n",
    "    d3 = dict()\n",
    "    dict_list = [d1, d2]\n",
    "    for l in dict_list:\n",
    "        for k, v in l.items():\n",
    "            if k not in d3:\n",
    "                d3[k] = v\n",
    "            else:\n",
    "                d3[k] += v\n",
    "    return(d3)\n",
    "        \n",
    "d1 = {'a': 1, 'b': 3, 'd': 7, 'e': 8}\n",
    "d2 = {'a': 2, 'c': 4, 'e': 1}\n",
    "d3 = comb_dict(d1, d2)\n",
    "print(d3)"
   ]
  },
  {
   "cell_type": "code",
   "execution_count": 143,
   "id": "055a2dcb",
   "metadata": {},
   "outputs": [
    {
     "name": "stdout",
     "output_type": "stream",
     "text": [
      "{'a': 3, 'b': 3, 'd': 7, 'e': 9, 'c': 4}\n",
      "{'a': 1, 'b': 3, 'd': 7, 'e': 8}\n"
     ]
    }
   ],
   "source": [
    "def comb_dict(d1, d2):\n",
    "    res = d1.copy() # 그냥 넣으면 d1과 res 같이 update 됨 -> copy 붙여서 해결\n",
    "    \n",
    "    for k, v in d2.items():\n",
    "        # 경우 1: e in d1\n",
    "        if k in d1:\n",
    "            res[k] += v\n",
    "        # 경우 2: e not in d1\n",
    "        else:\n",
    "            res[k] = v\n",
    "    return res\n",
    "        \n",
    "d1 = {'a': 1, 'b': 3, 'd': 7, 'e': 8}\n",
    "d2 = {'a': 2, 'c': 4, 'e': 1}\n",
    "d3 = comb_dict(d1, d2)\n",
    "print(d3)\n",
    "print(d1)"
   ]
  },
  {
   "cell_type": "markdown",
   "id": "367aa865",
   "metadata": {},
   "source": [
    "## 실습10\n",
    "숫자를 2개 이상 입력 받아, 최댓값과 최솟값의 차를 반환하는 함수를 작성하시오."
   ]
  },
  {
   "cell_type": "code",
   "execution_count": 94,
   "id": "4620f0bf",
   "metadata": {},
   "outputs": [
    {
     "name": "stdout",
     "output_type": "stream",
     "text": [
      "4\n",
      "300\n"
     ]
    }
   ],
   "source": [
    "def diff(*a):\n",
    "    min_val = min(list(a))\n",
    "    max_val = max(list(a))\n",
    "    return max_val - min_val\n",
    "\n",
    "print(diff(1,2,3,4,5))\n",
    "print(diff(-100, 200))"
   ]
  }
 ],
 "metadata": {
  "kernelspec": {
   "display_name": "Python 3 (ipykernel)",
   "language": "python",
   "name": "python3"
  },
  "language_info": {
   "codemirror_mode": {
    "name": "ipython",
    "version": 3
   },
   "file_extension": ".py",
   "mimetype": "text/x-python",
   "name": "python",
   "nbconvert_exporter": "python",
   "pygments_lexer": "ipython3",
   "version": "3.11.5"
  }
 },
 "nbformat": 4,
 "nbformat_minor": 5
}
