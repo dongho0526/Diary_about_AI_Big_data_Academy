{
 "cells": [
  {
   "cell_type": "code",
   "execution_count": 3,
   "id": "3d2b09c6",
   "metadata": {},
   "outputs": [],
   "source": [
    "f = open('output.txt', 'w')\n",
    "f.write('Python is fun!')\n",
    "f.close()\n",
    "\n",
    "with open('output.txt', 'w') as f:\n",
    "    f.write('Python is fun!')"
   ]
  },
  {
   "cell_type": "code",
   "execution_count": 16,
   "id": "265bcbd4",
   "metadata": {},
   "outputs": [
    {
     "name": "stdout",
     "output_type": "stream",
     "text": [
      "0\n",
      "st line\n",
      "\n"
     ]
    }
   ],
   "source": [
    "f = open('test.txt', 'r')\n",
    "\n",
    "print(f.tell())\n",
    "\n",
    "f.seek(3)\n",
    "\n",
    "s = f.readline()\n",
    "print(s)\n",
    "\n",
    "f.close()"
   ]
  },
  {
   "cell_type": "markdown",
   "id": "c7aabae5",
   "metadata": {},
   "source": [
    "## 실습1"
   ]
  },
  {
   "cell_type": "code",
   "execution_count": 55,
   "id": "829d7793",
   "metadata": {},
   "outputs": [
    {
     "name": "stdout",
     "output_type": "stream",
     "text": [
      "first 1\n",
      "line 3\n",
      "second 1\n",
      "third 1\n"
     ]
    }
   ],
   "source": [
    "with open('test.txt', 'r') as f:\n",
    "    lines = f.readlines()\n",
    "    words = dict()\n",
    "    for line in lines:\n",
    "        arr = line.split('\\n')[0].split(' ')\n",
    "        for i in arr:\n",
    "            if i not in words:\n",
    "                words[i] = 1\n",
    "            else:\n",
    "                words[i] += 1\n",
    "\n",
    "for k, v in words.items():\n",
    "    print(k, v)"
   ]
  },
  {
   "cell_type": "code",
   "execution_count": 57,
   "id": "6a0638ad",
   "metadata": {},
   "outputs": [
    {
     "name": "stdout",
     "output_type": "stream",
     "text": [
      "second 1\n",
      "line 3\n",
      "first 1\n",
      "third 1\n"
     ]
    }
   ],
   "source": [
    "with open('test.txt', 'r') as f:\n",
    "    total = f.read()\n",
    "    words = set(total.split())\n",
    "    for w in words:\n",
    "        print(w, total.count(w))"
   ]
  },
  {
   "cell_type": "markdown",
   "id": "85c70689",
   "metadata": {},
   "source": [
    "## 실습2"
   ]
  },
  {
   "cell_type": "code",
   "execution_count": 58,
   "id": "dfc45260",
   "metadata": {},
   "outputs": [
    {
     "name": "stdout",
     "output_type": "stream",
     "text": [
      "Enter a file name: \n",
      "test.txt\n",
      "FIRST LINE\n",
      "SECOND LINE\n",
      "THIRD LINE\n"
     ]
    }
   ],
   "source": [
    "import os\n",
    "\n",
    "print(\"Enter a file name: \")\n",
    "filename = input()\n",
    "\n",
    "if(os.path.exists(filename) == 0):\n",
    "    print(\"파일이 존재하지 않습니다\")\n",
    "else:\n",
    "    with open(filename, 'r') as f:\n",
    "        lines = f.readlines()\n",
    "        for line in lines:\n",
    "            print(line.upper().split('\\n')[0])"
   ]
  },
  {
   "cell_type": "code",
   "execution_count": 62,
   "id": "80341b2f",
   "metadata": {},
   "outputs": [
    {
     "name": "stdout",
     "output_type": "stream",
     "text": [
      "Enter a file name:test.txt\n",
      "FIRST LINE\n",
      "SECOND LINE\n",
      "THIRD LINE"
     ]
    }
   ],
   "source": [
    "f_name = input(\"Enter a file name:\")\n",
    "\n",
    "with open(f_name, 'r') as f:\n",
    "    for l in f:\n",
    "        print(l.upper(), end='')\n",
    "    "
   ]
  },
  {
   "cell_type": "markdown",
   "id": "99466c65",
   "metadata": {},
   "source": [
    "## 실습3"
   ]
  },
  {
   "cell_type": "code",
   "execution_count": 82,
   "id": "41020547",
   "metadata": {},
   "outputs": [
    {
     "name": "stdout",
     "output_type": "stream",
     "text": [
      "['202301 89 78\\n', '202302 76 84\\n', '202303 67 42\\n', '202304 66 88\\n', '202305 98 99']\n",
      "202301 83.5 B\n",
      "202302 80.0 B\n",
      "202303 54.5 F\n",
      "202304 77.0 C\n",
      "202305 98.5 A\n"
     ]
    }
   ],
   "source": [
    "with open('score.txt', 'r') as f, open('report.txt', 'w') as f_write:\n",
    "    student = dict()\n",
    "    lines = f.readlines()\n",
    "    print(lines)\n",
    "    for line in lines:\n",
    "        id, mid, final = (line.split('\\n')[0].split(' '))\n",
    "        avg = (int(mid) + int(final)) / 2\n",
    "        print(id, avg, grade(avg))\n",
    "        data = id + ' ' + str(avg) + f'({grade})\\n')\n",
    "        f_write.write(str(data))\n",
    "        \n",
    "\n",
    "def grade(avg):\n",
    "    if avg >= 90:\n",
    "        return 'A'\n",
    "    elif avg >= 80:\n",
    "        return 'B'\n",
    "    elif avg >= 70:\n",
    "        return 'C'\n",
    "    elif avg >= 60:\n",
    "        return 'D'\n",
    "    else:\n",
    "        return 'F'"
   ]
  },
  {
   "cell_type": "code",
   "execution_count": 88,
   "id": "bcaf52d8",
   "metadata": {},
   "outputs": [],
   "source": [
    "with open('score.txt', 'r') as f_score, open('report.txt', 'w') as f_report:\n",
    "    for l in f_score:\n",
    "        sid, mid, final = l.split()\n",
    "        mid = int(mid)\n",
    "        final = int(final)\n",
    "        avg = (mid + final)/2\n",
    "        grade = ''\n",
    "        if avg >= 90:\n",
    "            grade = 'A'\n",
    "        elif avg >= 80 and avg < 90:\n",
    "            grade = 'B'\n",
    "        elif avg >= 70 and avg < 80:\n",
    "            grade = 'C'\n",
    "        elif avg >= 60 and avg < 70:\n",
    "            grade = 'D'\n",
    "        else:\n",
    "            grade = 'F'\n",
    "            \n",
    "        f_report.write(sid + \" \" + str(avg) + f'({grade})\\n')"
   ]
  },
  {
   "cell_type": "code",
   "execution_count": null,
   "id": "90d809d1",
   "metadata": {},
   "outputs": [],
   "source": []
  }
 ],
 "metadata": {
  "kernelspec": {
   "display_name": "Python 3 (ipykernel)",
   "language": "python",
   "name": "python3"
  },
  "language_info": {
   "codemirror_mode": {
    "name": "ipython",
    "version": 3
   },
   "file_extension": ".py",
   "mimetype": "text/x-python",
   "name": "python",
   "nbconvert_exporter": "python",
   "pygments_lexer": "ipython3",
   "version": "3.11.5"
  }
 },
 "nbformat": 4,
 "nbformat_minor": 5
}
