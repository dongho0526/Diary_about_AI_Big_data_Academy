{
 "cells": [
  {
   "cell_type": "code",
   "execution_count": 2,
   "id": "16c8d940",
   "metadata": {},
   "outputs": [],
   "source": [
    "f = open('new.txt', 'w') # 읽기 모드, 쓰기 모드, 추가 모드를 제일 많이 씀\n",
    "\n",
    "for i in range(1, 6): # i: 1 ~ 5\n",
    "    data = str(i) + ' line \\n'\n",
    "    f.write(data)\n",
    "    \n",
    "f.close()"
   ]
  },
  {
   "cell_type": "code",
   "execution_count": 3,
   "id": "9a469163",
   "metadata": {},
   "outputs": [
    {
     "name": "stdout",
     "output_type": "stream",
     "text": [
      "1 line \n",
      "\n",
      "2 line \n",
      "\n",
      "3 line \n",
      "\n"
     ]
    }
   ],
   "source": [
    "f = open('new.txt', 'r')\n",
    "\n",
    "line = f.readline() # 1번째 줄 읽기\n",
    "print(line)\n",
    "\n",
    "line2 = f.readline()# 2번째 줄 읽기\n",
    "print(line2)\n",
    "\n",
    "line3 = f.readline()\n",
    "print(line3)\n",
    "\n",
    "f.close()"
   ]
  },
  {
   "cell_type": "code",
   "execution_count": 4,
   "id": "4be7a85e",
   "metadata": {},
   "outputs": [
    {
     "name": "stdout",
     "output_type": "stream",
     "text": [
      "['1 line \\n', '2 line \\n', '3 line \\n', '4 line \\n', '5 line \\n']\n"
     ]
    }
   ],
   "source": [
    "f = open('new.txt', 'r')\n",
    "# 모든 라인을 한꺼번에 읽어서 각각의 줄을 요소로 갖는 리스트를 반환\n",
    "lines = f.readlines()\n",
    "print(lines)\n",
    "f.close()"
   ]
  },
  {
   "cell_type": "code",
   "execution_count": 8,
   "id": "21857a09",
   "metadata": {},
   "outputs": [
    {
     "name": "stdout",
     "output_type": "stream",
     "text": [
      "1 line \n",
      "2 line \n",
      "3 line \n",
      "4 line \n",
      "5 line \n"
     ]
    }
   ],
   "source": [
    "f = open('new.txt', 'r')\n",
    "data = f.read()\n",
    "print(data, end='')\n",
    "f.close()"
   ]
  },
  {
   "cell_type": "code",
   "execution_count": 10,
   "id": "4837e3dc",
   "metadata": {},
   "outputs": [
    {
     "name": "stdout",
     "output_type": "stream",
     "text": [
      "1 line \n",
      "2 line \n",
      "3 line \n",
      "4 line \n",
      "5 line \n"
     ]
    }
   ],
   "source": [
    "f = open('new.txt', 'r')\n",
    "\n",
    "for line in f:\n",
    "    print(line, end='') # 줄바꿈 두번 일어나지 않게 end='' 붙여줌\n",
    "f.close()"
   ]
  },
  {
   "cell_type": "code",
   "execution_count": null,
   "id": "6f1d28bd",
   "metadata": {},
   "outputs": [],
   "source": [
    "f = open('new.txt', 'a')\n",
    "\n",
    "for i in range(6, 11): # i: 6 ~ 10\n",
    "    data = str(i) + ' line \\n'\n",
    "    f.write(data)\n",
    "    \n",
    "f.close()"
   ]
  }
 ],
 "metadata": {
  "kernelspec": {
   "display_name": "Python 3 (ipykernel)",
   "language": "python",
   "name": "python3"
  },
  "language_info": {
   "codemirror_mode": {
    "name": "ipython",
    "version": 3
   },
   "file_extension": ".py",
   "mimetype": "text/x-python",
   "name": "python",
   "nbconvert_exporter": "python",
   "pygments_lexer": "ipython3",
   "version": "3.11.5"
  }
 },
 "nbformat": 4,
 "nbformat_minor": 5
}
