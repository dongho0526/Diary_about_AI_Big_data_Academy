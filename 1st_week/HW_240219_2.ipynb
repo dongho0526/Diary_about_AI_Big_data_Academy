{
 "cells": [
  {
   "cell_type": "markdown",
   "id": "940841ae",
   "metadata": {},
   "source": [
    "## 집합"
   ]
  },
  {
   "cell_type": "code",
   "execution_count": 21,
   "id": "8ac845ec",
   "metadata": {},
   "outputs": [],
   "source": [
    "s1 = set()\n",
    "s2 = {3, 4, 5}\n",
    "word = \"Hello\" * 2\n",
    "print(word)\n",
    "word_list = list(word)\n",
    "print(word_list)\n",
    "s3 = set(word_list)\n",
    "print(s3)\n",
    "s4 = set('Hello')\n",
    "print(s4)"
   ]
  },
  {
   "cell_type": "code",
   "execution_count": 24,
   "id": "7093098b",
   "metadata": {},
   "outputs": [
    {
     "name": "stdout",
     "output_type": "stream",
     "text": [
      "{1, 2, 3, 4, 5, 10}\n",
      "{1, 3, 4, 5, 10}\n",
      "{1, 3, 4, 5, 7, 9, 10}\n",
      "{1, 3, 4, 5, 9, 10}\n",
      "set()\n"
     ]
    }
   ],
   "source": [
    "s = {1, 2, 3, 4, 5, 3, 4}\n",
    "\n",
    "s.add(10)\n",
    "print(s)\n",
    "\n",
    "s.remove(2)\n",
    "print(s)\n",
    "\n",
    "s.update([1,3,5,7,9])\n",
    "print(s)\n",
    "\n",
    "s.discard(7)\n",
    "print(s)\n",
    "\n",
    "s.clear()\n",
    "print(s)"
   ]
  },
  {
   "cell_type": "code",
   "execution_count": 28,
   "id": "594ae3ba",
   "metadata": {},
   "outputs": [
    {
     "name": "stdout",
     "output_type": "stream",
     "text": [
      "{1, 2, 3, 4, 5}\n",
      "{1, 2, 3, 4, 5}\n",
      "{3}\n",
      "{3}\n",
      "{1, 2}\n"
     ]
    }
   ],
   "source": [
    "s1 = {1, 2, 3}\n",
    "s2 = {3, 4, 5}\n",
    "s3 = s1.union(s2)\n",
    "print(s3)\n",
    "\n",
    "s3 = s1 | s2\n",
    "print(s3)\n",
    "\n",
    "s4 = s1.intersection(s2)\n",
    "print(s4)\n",
    "\n",
    "s4 = s1 & s2\n",
    "print(s4)\n",
    "\n",
    "s5 = s1.difference(s2)\n",
    "print(s5)"
   ]
  },
  {
   "cell_type": "markdown",
   "id": "25ec4efa",
   "metadata": {},
   "source": [
    " ## 실습1\n",
    " 1부터 100까지 숫자 중 3과 5의 공배수를 집합 형태로 만들어 아래와 같이 출력하시오. (단, 집합의 원소 출력 순서는 다를 수 있음)"
   ]
  },
  {
   "cell_type": "code",
   "execution_count": 1,
   "id": "708741c6",
   "metadata": {},
   "outputs": [
    {
     "name": "stdout",
     "output_type": "stream",
     "text": [
      "{75, 45, 15, 90, 60, 30}\n",
      "3과 5의 공배수:  6 개\n"
     ]
    }
   ],
   "source": [
    "s3, s5 = set(), set()\n",
    "\n",
    "s3 = set([i for i in range(3, 101, 3)])\n",
    "s5 = set([i for i in range(5, 101, 5)])\n",
    "\n",
    "# for i in range(100):\n",
    "#     if(i % 3 == 0) : s3.add(i)\n",
    "#     if(i % 5 == 0) : s5.add(i)\n",
    "\n",
    "s = s3 & s5\n",
    "print(s)\n",
    "print(\"3과 5의 공배수: \", len(s), \"개\")"
   ]
  },
  {
   "cell_type": "code",
   "execution_count": 8,
   "id": "0dcca1d8",
   "metadata": {},
   "outputs": [
    {
     "name": "stdout",
     "output_type": "stream",
     "text": [
      "{'kim': 1, 'park': 2}\n",
      "{'kim': 3, 'park': 2}\n",
      "dict_keys(['kim', 'park'])\n"
     ]
    }
   ],
   "source": [
    "d = {}\n",
    "\n",
    "# key: 'kim', value: 1\n",
    "d['kim'] = 1\n",
    "\n",
    "# key: 'park', value: 2\n",
    "d['park'] = 2\n",
    "\n",
    "print(d)\n",
    "\n",
    "# 'kim': 1-> 3\n",
    "d['kim'] = 3\n",
    "\n",
    "print(d)\n",
    "\n",
    "print(d.keys())"
   ]
  },
  {
   "cell_type": "code",
   "execution_count": 9,
   "id": "baa20d2c",
   "metadata": {},
   "outputs": [
    {
     "name": "stdout",
     "output_type": "stream",
     "text": [
      "{'kim': 1, 'park': 2}\n",
      "{'kim': 3, 'park': 2}\n",
      "{'kim': 3, 'park': 2, 'youn': 1}\n"
     ]
    }
   ],
   "source": [
    "d = {}\n",
    "d['kim'] = 1 # 새 항목 추가\n",
    "d['park'] = 2 # 새 항목 추가\n",
    "print(d)\n",
    "\n",
    "d['park'] # 키(key)를 사용하여 값에 접근\n",
    "\n",
    "d['kim'] = 3 # 이미 있는 키의 경우 기존 값 변경\n",
    "print(d)\n",
    "\n",
    "d['youn'] = 1 # 새 항목 추가\n",
    "print(d)"
   ]
  },
  {
   "cell_type": "code",
   "execution_count": 13,
   "id": "de1eb905",
   "metadata": {},
   "outputs": [
    {
     "ename": "KeyError",
     "evalue": "'kim'",
     "output_type": "error",
     "traceback": [
      "\u001b[0;31m---------------------------------------------------------------------------\u001b[0m",
      "\u001b[0;31mKeyError\u001b[0m                                  Traceback (most recent call last)",
      "Cell \u001b[0;32mIn[13], line 5\u001b[0m\n\u001b[1;32m      3\u001b[0m d\u001b[38;5;241m.\u001b[39mitems() \u001b[38;5;66;03m# 키와 값의 항목을 튜플 형태로\u001b[39;00m\n\u001b[1;32m      4\u001b[0m \u001b[38;5;124m'\u001b[39m\u001b[38;5;124mkim\u001b[39m\u001b[38;5;124m'\u001b[39m \u001b[38;5;129;01min\u001b[39;00m d \u001b[38;5;66;03m# 딕셔너리에 키가 있는 경우\u001b[39;00m\n\u001b[0;32m----> 5\u001b[0m \u001b[38;5;28;01mdel\u001b[39;00m d[\u001b[38;5;124m'\u001b[39m\u001b[38;5;124mkim\u001b[39m\u001b[38;5;124m'\u001b[39m] \u001b[38;5;66;03m# 항목 삭제\u001b[39;00m\n\u001b[1;32m      6\u001b[0m d\u001b[38;5;241m.\u001b[39mclear()\n",
      "\u001b[0;31mKeyError\u001b[0m: 'kim'"
     ]
    }
   ],
   "source": [
    "d.keys() # 키만 추출\n",
    "d.values() # 값만 추출\n",
    "d.items() # 키와 값의 항목을 튜플 형태로\n",
    "'kim' in d # 딕셔너리에 키가 있는 경우\n",
    "del d['kim'] # 항목 삭제\n",
    "d.clear() # 전체 삭제\n"
   ]
  },
  {
   "cell_type": "markdown",
   "id": "abe4884a",
   "metadata": {},
   "source": [
    " ## 실습2 - 딕셔너리\n",
    " for 문을 사용하여 아래 딕셔너리 d의 모든 value를 출력해 보세요."
   ]
  },
  {
   "cell_type": "code",
   "execution_count": 3,
   "id": "e9ef656e",
   "metadata": {},
   "outputs": [
    {
     "name": "stdout",
     "output_type": "stream",
     "text": [
      "3 2 1 "
     ]
    }
   ],
   "source": [
    "d = {'kim': 3, 'park': 2, 'youn': 1}\n",
    "for value in d:\n",
    "    print(d[value], end = ' ')"
   ]
  },
  {
   "cell_type": "code",
   "execution_count": 4,
   "id": "cf3f9f41",
   "metadata": {},
   "outputs": [
    {
     "name": "stdout",
     "output_type": "stream",
     "text": [
      "kim\n",
      "3\n",
      "park\n",
      "2\n",
      "youn\n",
      "1\n"
     ]
    }
   ],
   "source": [
    "d = {'kim': 3, 'park': 2, 'youn': 1}\n",
    "\n",
    "for k,v in d.items():\n",
    "    print(k)\n",
    "    print(v)"
   ]
  },
  {
   "cell_type": "markdown",
   "id": "03d3ff4f",
   "metadata": {},
   "source": [
    "## 실습3 - 딕셔너리\n",
    "어떤 문장을 입력 받으면 해당 문장에서 각 문자가 몇 개씩 나오는지 저장하는 딕셔너리를 만든 후, 아래와 같이 출력하시오."
   ]
  },
  {
   "cell_type": "code",
   "execution_count": 5,
   "id": "2e2bf86c",
   "metadata": {},
   "outputs": [
    {
     "name": "stdout",
     "output_type": "stream",
     "text": [
      "Enter a sentence: \n",
      "Python is fun!\n",
      "{'P': 1, 'y': 1, 't': 1, 'h': 1, 'o': 1, 'n': 2, ' ': 2, 'i': 1, 's': 1, 'f': 1, 'u': 1, '!': 1}\n"
     ]
    }
   ],
   "source": [
    "print(\"Enter a sentence: \")\n",
    "s = input()\n",
    "\n",
    "sentence = dict()\n",
    "for value in s:\n",
    "    if value not in sentence:\n",
    "        sentence[value] = 1\n",
    "    elif value in sentence:\n",
    "        sentence[value] += 1\n",
    "print(sentence)\n",
    "    "
   ]
  },
  {
   "cell_type": "code",
   "execution_count": 14,
   "id": "77fee4b8",
   "metadata": {},
   "outputs": [
    {
     "name": "stdout",
     "output_type": "stream",
     "text": [
      "Enter a sentence: Python is fun!\n",
      "{'o': 1, 't': 1, 'f': 1, '!': 1, 'n': 2, 'h': 1, 'i': 1, 's': 1, 'P': 1, ' ': 2, 'y': 1, 'u': 1}\n"
     ]
    }
   ],
   "source": [
    "s = input(\"Enter a sentence: \")\n",
    "\n",
    "l = list(set(s))\n",
    "\n",
    "d = {}\n",
    "\n",
    "for k in l:\n",
    "    c = s.count(k)\n",
    "    d[k] = c\n",
    "    \n",
    "print(d)"
   ]
  },
  {
   "cell_type": "code",
   "execution_count": 17,
   "id": "8c96af37",
   "metadata": {},
   "outputs": [
    {
     "name": "stdout",
     "output_type": "stream",
     "text": [
      "[1, 4, 9, 16, 25]\n",
      "[2, 4]\n",
      "[3, 4, 5, 6, 8, 10, 9, 12, 15]\n",
      "B\n"
     ]
    }
   ],
   "source": [
    "L = [i ** 2 for i in range(1, 6)] # i: 1, 2, 3, 4, 5\n",
    "\n",
    "print(L)\n",
    "\n",
    "L = [i for i in range(1, 6) if i%2 == 0] # i: 1, 2, 3, 4, 5\n",
    "print(L)\n",
    "\n",
    "L1 = [1, 2, 3]\n",
    "L2 = [3, 4, 5]\n",
    "\n",
    "L3 = [x*y for x in L1 for y in L2]\n",
    "print(L3)\n",
    "\n",
    "p = False #(Boolean)\n",
    "\n",
    "print('A') if p else print('B')"
   ]
  },
  {
   "cell_type": "code",
   "execution_count": 19,
   "id": "f656a68b",
   "metadata": {},
   "outputs": [
    {
     "name": "stdout",
     "output_type": "stream",
     "text": [
      "[(1, 4, 'a'), (2, 5, 'b'), (3, 6, 'c')]\n"
     ]
    }
   ],
   "source": [
    "L1 = [1, 2, 3]\n",
    "L2 = [4, 5, 6]\n",
    "L3 = ['a', 'b', 'c']\n",
    "\n",
    "print(list(zip(L1, L2, L3)))\n",
    "\n",
    "print([sum(x) for x in zip((1,2,3), (4,5,6))])\n",
    "# zip -> [(1, 4), (2, 5), (3, 6)]\n",
    "# x -> (1, 4)\n",
    "# x -> (2, 5)\n",
    "# x -> (3, 6)"
   ]
  },
  {
   "cell_type": "markdown",
   "id": "2ca242c5",
   "metadata": {},
   "source": [
    "## 실습4\n",
    "아래와 같이 주어진 2개의 리스트로 딕셔너리를 만들어 출력하시오. 단, 순서는 다를 수 있음"
   ]
  },
  {
   "cell_type": "code",
   "execution_count": 20,
   "id": "63e617ec",
   "metadata": {},
   "outputs": [
    {
     "name": "stdout",
     "output_type": "stream",
     "text": [
      "{'one': 1, 'two': 2, 'three': 3, 'four': 4}\n"
     ]
    }
   ],
   "source": [
    "L1 = ['one', 'two', 'three', 'four']\n",
    "L2 = [1, 2, 3, 4]\n",
    "s = dict()\n",
    "\n",
    "for comb in zip(L1, L2):\n",
    "    s[comb[0]] = comb[1]\n",
    "\n",
    "print(s)"
   ]
  },
  {
   "cell_type": "code",
   "execution_count": 23,
   "id": "c93492c9",
   "metadata": {},
   "outputs": [
    {
     "name": "stdout",
     "output_type": "stream",
     "text": [
      "{'one': 1, 'two': 2, 'three': 3, 'four': 4}\n"
     ]
    }
   ],
   "source": [
    "L1 = ['one', 'two', 'three', 'four']\n",
    "L2 = [1, 2, 3, 4]\n",
    "\n",
    "L3 = dict(zip(L1, L2))\n",
    "print(L3)"
   ]
  },
  {
   "cell_type": "code",
   "execution_count": 25,
   "id": "daa8c537",
   "metadata": {},
   "outputs": [
    {
     "name": "stdout",
     "output_type": "stream",
     "text": [
      "[('one', 1), ('two', 2), ('three', 3), ('four', 4)]\n",
      "{'one': 1, 'two': 2, 'three': 3, 'four': 4}\n"
     ]
    }
   ],
   "source": [
    "L1 = ['one', 'two', 'three', 'four']\n",
    "L2 = [1, 2, 3, 4]\n",
    "\n",
    "L3 = list(zip(L1, L2))\n",
    "print(L3)\n",
    "\n",
    "d = {}\n",
    "\n",
    "for k, v in L3:\n",
    "    d[k] = v\n",
    "print(d)"
   ]
  }
 ],
 "metadata": {
  "kernelspec": {
   "display_name": "Python 3 (ipykernel)",
   "language": "python",
   "name": "python3"
  },
  "language_info": {
   "codemirror_mode": {
    "name": "ipython",
    "version": 3
   },
   "file_extension": ".py",
   "mimetype": "text/x-python",
   "name": "python",
   "nbconvert_exporter": "python",
   "pygments_lexer": "ipython3",
   "version": "3.11.5"
  }
 },
 "nbformat": 4,
 "nbformat_minor": 5
}
