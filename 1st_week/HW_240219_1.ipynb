{
 "cells": [
  {
   "cell_type": "code",
   "execution_count": 1,
   "id": "4cb4c7a4",
   "metadata": {},
   "outputs": [
    {
     "name": "stdout",
     "output_type": "stream",
     "text": [
      "첫 번째 정수를 입력하세요: \n",
      "10\n",
      "두 번째 정수를 입력하세요: \n",
      "5\n",
      "10 + 5 = 15\n",
      "10 - 5 = 5\n",
      "10 * 5 = 50\n",
      "10 / 5 = 2.0\n"
     ]
    }
   ],
   "source": [
    "print(\"첫 번째 정수를 입력하세요: \")\n",
    "a = int(input())\n",
    "print(\"두 번째 정수를 입력하세요: \")\n",
    "b = int(input())\n",
    "print(\"{} + {} = {}\".format(a, b, a+b))\n",
    "print(\"{} - {} = {}\".format(a, b, a-b))\n",
    "print(\"{} * {} = {}\".format(a, b, a*b))\n",
    "print(\"{} / {} = {}\".format(a, b, a/b))"
   ]
  }
 ],
 "metadata": {
  "kernelspec": {
   "display_name": "Python 3 (ipykernel)",
   "language": "python",
   "name": "python3"
  },
  "language_info": {
   "codemirror_mode": {
    "name": "ipython",
    "version": 3
   },
   "file_extension": ".py",
   "mimetype": "text/x-python",
   "name": "python",
   "nbconvert_exporter": "python",
   "pygments_lexer": "ipython3",
   "version": "3.11.5"
  }
 },
 "nbformat": 4,
 "nbformat_minor": 5
}
