{
 "cells": [
  {
   "cell_type": "markdown",
   "id": "e60d8c83-ff90-4793-a2e8-64ed9b151c9e",
   "metadata": {},
   "source": [
    "# 객체 지향 프로그래밍\n",
    "> - 객체 : 모종의 변수와 메서드를 담는 추상적 개념\n",
    "> - 프로그램을 객체 간의 상호작용으로 서술\n",
    "> - <U>Python은 모든 것이 객체</U> -> . : 특정 객체(앞의 변수) 안에 저장된 객체와 함수에 접근하는 역할\n",
    "\n",
    "#### 클래스 : 객체를 만들기 위한 구현도, 틀  \n",
    "##### 클래스의 구성요소(2가지 어트리뷰트)\n",
    "- 변수(데이터 어트리뷰트)\n",
    "- 매서드(매서드 어트리뷰트)\n",
    "\n",
    "##### 클래스의 연산 2가지\n",
    "- .을 통한 참조연산\n",
    "- () call 사용"
   ]
  },
  {
   "cell_type": "code",
   "execution_count": 2,
   "id": "1a3535b0-cfca-4b89-b740-685f495ea1f7",
   "metadata": {},
   "outputs": [
    {
     "name": "stdout",
     "output_type": "stream",
     "text": [
      "MongJa\n"
     ]
    }
   ],
   "source": [
    "class Dog :\n",
    "    name = \"MongJa\"\n",
    "\n",
    "    def bark(self) :\n",
    "        return 'wal wal'\n",
    "\n",
    "print(Dog.name) # .을 통한 참조연산으로 변수 접근"
   ]
  },
  {
   "cell_type": "markdown",
   "id": "ccebd173-938c-4f63-a0b5-c8da0ca6d6d6",
   "metadata": {},
   "source": [
    "---\n",
    "##### 인스턴스 객체\n",
    "- 오직 한 가지 연산만 가능"
   ]
  },
  {
   "cell_type": "code",
   "execution_count": 4,
   "id": "c4c76d04-1a34-4c42-afd8-6bfb73672604",
   "metadata": {},
   "outputs": [
    {
     "name": "stdout",
     "output_type": "stream",
     "text": [
      "MongJa\n"
     ]
    },
    {
     "data": {
      "text/plain": [
       "'wal wal'"
      ]
     },
     "execution_count": 4,
     "metadata": {},
     "output_type": "execute_result"
    }
   ],
   "source": [
    "dog1 = Dog()\n",
    "print(dog1.name)\n",
    "\n",
    "print(dog1.bark()) # .을 통한 참조연산으로 매서드 접근\n",
    "'''인스턴스에서 매서드를 호출하는 경우 self라는 인자에 자동으로 don1(self)이 자동으로 들어가게 됨'''"
   ]
  },
  {
   "cell_type": "code",
   "execution_count": 22,
   "id": "4aa21895-b7b3-4704-8d1a-466a95cd4a19",
   "metadata": {},
   "outputs": [],
   "source": [
    "class Dog :\n",
    "    def __init__(self, n) : # 인스턴스 생성마다 호출\n",
    "        # 이름 초기화\n",
    "        self.name = n # dog.name = 'ABC'\n",
    "\n",
    "    def bark(self) :\n",
    "        return 'wal wal'\n",
    "\n",
    "# dog1 = Dog()\n",
    "'''\n",
    "넘겨받을 인자가 없을 경우\n",
    "TypeError: Dog.__init__() missing 1 required positional argument: 'n'\n",
    "'''\n",
    "\n",
    "dog1 = Dog('ABC') # 인스턴스 생성성\n",
    "# init 실행, self (<- 함수를 호출한 인스턴스 dog1이 들어감), n (<-사용자가 추가한 인자 'ABC'가 들어감)\n"
   ]
  },
  {
   "cell_type": "markdown",
   "id": "e180a08b-daab-493d-8621-ad8f0c0bd971",
   "metadata": {},
   "source": [
    "---\n",
    "##### 매서드 객체\n",
    "- 클래스에 종속되어 있는 함수\n",
    "- 대상이 되는 객체가 있어야 사용 가능\n",
    "- 모든 메서드는 첫번째 인자가 항상 존재(self)\n",
    "  - self : 인스턴스의 직관적인 사용 및 사용자의 편의 도모\n",
    "  - ex\n",
    "    - a.get_info()\n",
    "    - a.get_info(a)\n",
    "    - 위 두 호출은 동등한 결과를 출력함\n",
    "\n",
    "##### 특수 메서드\n",
    "- \"_ _ 메서드이름 _ _\"과 같은 이름을 \n",
    "- 미리 동작이 정의 되어 있음\n",
    "- ex> _ _ init _ _\n",
    "  - 인스턴스 생성시 자동으로 호출 됨함\n",
    "  - 인스턴스가 갖게 될 여러 어트리뷰트 정해주는 역할\n",
    "  - 무조건 return은 None이어야 함 (또는 생략 가능)"
   ]
  },
  {
   "cell_type": "code",
   "execution_count": 6,
   "id": "e69ca596-c172-4f04-8def-b6b0a589cd84",
   "metadata": {},
   "outputs": [
    {
     "name": "stdout",
     "output_type": "stream",
     "text": [
      "init 함수가 호출되었습니다!\n"
     ]
    }
   ],
   "source": [
    "class Sample :\n",
    "    def __init__(self) :\n",
    "        print(\"init 함수가 호출되었습니다!\")\n",
    "\n",
    "a = Sample() '''인스턴스 생성 시 자동적으로 __init__함수 호출되는것을 확인할 수 있음'''"
   ]
  },
  {
   "cell_type": "code",
   "execution_count": 11,
   "id": "0e012c48-31c9-4cac-96bd-1ee2c738c1f7",
   "metadata": {},
   "outputs": [
    {
     "name": "stdout",
     "output_type": "stream",
     "text": [
      "건물이름 =  공학1동\n",
      "건물층수 =  3\n",
      "엘리베이터 유무 =  True\n",
      "건물이름 =  공학1동\n",
      "건물층수 =  3\n",
      "엘리베이터 유무 =  True\n"
     ]
    }
   ],
   "source": [
    "class Building :\n",
    "    name = \"공학1동\" # 추천하지 않음\n",
    "    h = 3\n",
    "    elev = True\n",
    "\n",
    "    def get_info(self) : # self <- instance\n",
    "        print(\"건물이름 = \", self.name)\n",
    "        print(\"건물층수 = \", self.h)\n",
    "        print(\"엘리베이터 유무 = \", self.elev)\n",
    "\n",
    "a = Building()\n",
    "b = Building()\n",
    "\n",
    "a.get_info()\n",
    "b.get_info()"
   ]
  },
  {
   "cell_type": "code",
   "execution_count": 12,
   "id": "ea0e1ec9-b8b0-4172-b910-c839fae17209",
   "metadata": {},
   "outputs": [
    {
     "name": "stdout",
     "output_type": "stream",
     "text": [
      "건물이름 =  공학1동\n",
      "건물층수 =  3\n",
      "엘리베이터 유무 =  True\n",
      "건물이름 =  공학2동\n",
      "건물층수 =  10\n",
      "엘리베이터 유무 =  True\n"
     ]
    }
   ],
   "source": [
    "class Building :\n",
    "    '''인스턴스가 갖게 될 여러 어트리뷰트 정해주는 역할을 하는 것을 확인할 수 있음'''\n",
    "    def __init__(self, name=\"공학1동\", h=3, elev=True) :\n",
    "        # 초기화 기능(다르게 가져야 하는 값들을 인자로 받기) + 디폴트 매개변수\n",
    "        # instance마다 달라야하는 내용을 초기화하는 기능을 함\n",
    "        # self <- 이 함수를 호출한 instance가 들어옴. instacne 안의 변수를 초기화함\n",
    "        self.name = name\n",
    "        self.h = h\n",
    "        self.elev = elev\n",
    "        \n",
    "\n",
    "    def get_info(self) : # self <- instance\n",
    "        print(\"건물이름 = \", self.name)\n",
    "        print(\"건물층수 = \", self.h)\n",
    "        print(\"엘리베이터 유무 = \", self.elev)\n",
    "\n",
    "a = Building() # -> init이 호출되더라도 디폴트값이 있기 때문에 문제 없이 동작함\n",
    "\n",
    "# init함수는 클래스 호출 시 자동 실행 => 인자를 넘길 수 있음!!\n",
    "b = Building(\"공학2동\", 10, True)\n",
    "\n",
    "a.get_info()\n",
    "b.get_info()"
   ]
  },
  {
   "cell_type": "code",
   "execution_count": 56,
   "id": "936c3a29-b271-4197-aed5-b06b9c6c9021",
   "metadata": {},
   "outputs": [
    {
     "name": "stdout",
     "output_type": "stream",
     "text": [
      "홍길동 10 150 50\n",
      "홍길동 30 150 50\n",
      "홍길동 30 180 50\n",
      "홍길동 30 180 100\n"
     ]
    }
   ],
   "source": [
    "##### 클래스 실습 #####\n",
    "class Person :\n",
    "    def __init__(self, n=\"홍길동\", a=20, h=160, w=50) :\n",
    "        self.n = n\n",
    "        self.a = a\n",
    "        self.h = h\n",
    "        self.w = w\n",
    "\n",
    "    def add_age(self, add=0) : # self로 받은 instance의 나이  증가\n",
    "        self.a = self.a+add\n",
    "        \n",
    "    def edit_height(self, h) : # self (instance)의 키를 h로 수정\n",
    "        self.h = h\n",
    "        \n",
    "    def edit_weight(self, w) : # self (instacne)의 몸무게를 w로 수정\n",
    "        self.w = w\n",
    "\n",
    "\n",
    "a = Person('홍길동', 10, 150, 50)\n",
    "print(a.n, a.a, a.h, a.w)\n",
    "\n",
    "a.add_age(20)\n",
    "print(a.n, a.a, a.h, a.w)\n",
    "\n",
    "a.edit_height(180)\n",
    "print(a.n, a.a, a.h, a.w)\n",
    "\n",
    "a.edit_weight(100)\n",
    "print(a.n, a.a, a.h, a.w)\n",
    "\n",
    "\n",
    "## 클래스와 인스턴스의 차이?\n",
    "'''클래스의 객체가 소프트웨어에 실체화되면 그것을 인스턴스라 부름\n",
    "    위 코드에서 클래스는 Person\n",
    "    객체는 a\n",
    "    객체 a는 클래스 Person의 인스턴스\n",
    "    => 인스턴스라는 표현은 특정 객체가 어떤 클래스의 객체인지 관계 중점으로 표현할 때 사용\n",
    "'''"
   ]
  },
  {
   "cell_type": "markdown",
   "id": "4665db13-92ae-4d00-a2a5-67a408c4f3fe",
   "metadata": {},
   "source": [
    "---\n",
    "### 클래스와 인스턴스 데이터\n",
    "- 인스턴스 데이터\n",
    "  - init 안에서 인스턴스마다 가지는 데이터\n",
    "- 클래스 데이터\n",
    "  - 클래스의 모든 인스턴스가 공유하는 데이터, 매서드 어트리뷰트를 말함\n",
    "  - __클래스 변수__ (mutable vs immutable)\n",
    "    - 아래 w의 값은 수정 불가능 (문자열, 튜플, 정수, 부동소수점 등)\n",
    "    - 변경시 새로운 변수 생성되고 해당 인스턴스에 귀속 됨"
   ]
  },
  {
   "cell_type": "code",
   "execution_count": 57,
   "id": "fba593f7-d5ac-41fb-b193-69c1eca1bb7a",
   "metadata": {},
   "outputs": [
    {
     "name": "stdout",
     "output_type": "stream",
     "text": [
      "139735658710512\n",
      "139735293890672\n"
     ]
    }
   ],
   "source": [
    "### immutable\n",
    "w = \"ABC\"\n",
    "print(id(w))\n",
    "w = \"ABCD\" # 수정 가능한 것 처럼 보이나, 아예 서로 다른 객체를 가지고 있음\n",
    "print(id(w))"
   ]
  },
  {
   "cell_type": "code",
   "execution_count": 61,
   "id": "1aba2f9f-6a88-49cc-bab5-7f75e24fbe8f",
   "metadata": {},
   "outputs": [
    {
     "name": "stdout",
     "output_type": "stream",
     "text": [
      "139735291247616\n",
      "139735291247616\n"
     ]
    }
   ],
   "source": [
    "### mutable\n",
    "l = [1,2,3]\n",
    "print(id(l))\n",
    "l.append(4)\n",
    "print(id(l))"
   ]
  },
  {
   "cell_type": "code",
   "execution_count": 62,
   "id": "6eb51f69-8423-4c45-91f6-3873109086ee",
   "metadata": {},
   "outputs": [
    {
     "name": "stdout",
     "output_type": "stream",
     "text": [
      "[]\n",
      "[]\n",
      "['roll over']\n",
      "['roll over']\n"
     ]
    }
   ],
   "source": [
    "class Dog:\n",
    "    tricks = [] # 클래스 변수 => 공유 가능\n",
    "\n",
    "    def __init__(self, name):\n",
    "        self.name = name # 인스턴스 변수\n",
    "\n",
    "    def add_tricks(self, trick) :\n",
    "        self.tricks.append(trick)\n",
    "\n",
    "d = Dog('Fido')\n",
    "e = Dog('Buddy')\n",
    "\n",
    "print(d.tricks)\n",
    "print(e.tricks)\n",
    "\n",
    "d.add_tricks('roll over')\n",
    "\n",
    "print(d.tricks) # 수정 가능한 객체일 경우...\n",
    "print(e.tricks) # d에 대해서만 roll over를 추가해야 하는데, e에도 추가가 됨!\n",
    "\n",
    "# dog마다 다른 tricks를 만들고 싶을 경우 인스턴스 객체로 리스트를 만들어야 함"
   ]
  },
  {
   "cell_type": "code",
   "execution_count": 104,
   "id": "0bdff1d6-519d-48fc-8c66-39573c090e21",
   "metadata": {},
   "outputs": [
    {
     "name": "stdout",
     "output_type": "stream",
     "text": [
      "<<계좌정보>>\n",
      "Name :  Gildong Hong\n",
      "Balance :  100\n",
      "===========\n",
      "30원을 출금하였습니다. 현재잔액은 70원입니다.\n",
      "100원을 입금하였습니다. 현재잔액은 170원입니다.\n",
      "\n",
      "\n",
      "\n",
      "300원을 출금하였습니다. 현재잔액은 700원입니다.\n",
      "300원을 입금하였습니다. 현재잔액은 500원입니다.\n",
      "고영희님에게 300원을 송금합니다.\n",
      "<<계좌정보>>\n",
      "Name :  고길동\n",
      "Balance :  700\n",
      "===========\n",
      "<<계좌정보>>\n",
      "Name :  고영희\n",
      "Balance :  500\n",
      "===========\n"
     ]
    }
   ],
   "source": [
    "##### 클래스 실습1 #####\n",
    "class BankAccount :\n",
    "    def __init__(self, balance=0, name=\"none\") :\n",
    "        self.balance = balance\n",
    "        self.name = name\n",
    "\n",
    "########### function 1. 입금 ###########\n",
    "    def deposit(self, amount) :\n",
    "        # self's balance에 amount 추가\n",
    "        self.balance += amount\n",
    "        print(f\"{amount}원을 입금하였습니다. 현재잔액은 {self.balance}원입니다.\")\n",
    "\n",
    "    \n",
    "########### function 2. 출금 ###########\n",
    "    def withdraw(self, amount) :\n",
    "        #self's balance로부터 amount만큼 삭제\n",
    "        # case 1. 잔액 충분 => 출금력\n",
    "        if self.balance - amount >= 0 :\n",
    "            self.balance -= amount\n",
    "            print(f\"{amount}원을 출금하였습니다. 현재잔액은 {self.balance}원입니다.\")\n",
    "\n",
    "        # case 2. 잔액 부족 => 에러문구 출력\n",
    "        else :\n",
    "            return \"잔액이 부족합니다.\"\n",
    "\n",
    "    \n",
    "########### function 3. 계좌 정보 조회 ###########\n",
    "    def get_info(self) :\n",
    "        print(\"<<계좌정보>>\")\n",
    "        print(\"Name : \", self.name)\n",
    "        print(\"Balance : \", self.balance)\n",
    "        print(\"===========\")\n",
    "\n",
    "    \n",
    "########### function 4. 계좌이체 ###########\n",
    "    def transfer(self, other, amount=0) :\n",
    "        # self, other : BankAccount instance\n",
    "        # amount : number\n",
    "        # case 1. 잔액 충분 => other 계좌로 송금\n",
    "        if self.balance - amount >= 0 :\n",
    "            self.withdraw(amount)\n",
    "            other.deposit(amount)\n",
    "            print(f\"{other.name}님에게 {amount}원을 송금합니다.\")\n",
    "        # case 2. 잔액 부족 => 에러문구 출력\n",
    "        else :\n",
    "            print(\"잔액이 부족합니다.\")\n",
    "\n",
    "\n",
    "################################\n",
    "########### 실행 결과 ###########\n",
    "a = BankAccount(100, \"Gildong Hong\")\n",
    "a.get_info()\n",
    "a.withdraw(30)\n",
    "a.deposit(100)\n",
    "print(\"\\n\\n\")\n",
    "\n",
    "\n",
    "acc1 = BankAccount(1000, \"고길동\")\n",
    "acc2 = BankAccount(200, \"고영희\")\n",
    "acc1.transfer(acc2, 300)\n",
    "acc1.get_info()\n",
    "acc2.get_info()"
   ]
  },
  {
   "cell_type": "markdown",
   "id": "5af08a6f-36c0-43be-8a6d-4977cae29e63",
   "metadata": {},
   "source": [
    "---\n",
    "# 상속 (Inheritance)\n",
    "> - 기존 클래스의 속성을 물려 받아 새로운 클래스를 만드는 것\n",
    "> - A와 B 클래스가 있을 때, 복사본이 아닌 상속을 한 후 하나 추가하는 방식\n",
    "> - 즉, 기존 클래스를 확장하는 용도로 사용\n",
    "> - 다중 클래스도 상속 가능함! \",\"로 구분\n",
    "### 매서드 오버라이딩\n",
    "> - 기존 클래스 메서드를 상속 클래스에서 재정의 하는 것\n",
    "> - 재정의하지 않은 메서드는 기존 클래스의 것을 그대로 사용\n",
    "> - 오버라이딩을 한 경우, 기존 클래스의 매서드를 사용하고 싶을 때 => super()사용"
   ]
  },
  {
   "cell_type": "code",
   "execution_count": 117,
   "id": "b65f70bb-b6a6-4d12-b883-01ce6420662e",
   "metadata": {},
   "outputs": [
    {
     "name": "stdout",
     "output_type": "stream",
     "text": [
      "class A\n",
      "class C\n",
      "test A\n"
     ]
    },
    {
     "data": {
      "text/plain": [
       "[__main__.E, __main__.C, __main__.A, __main__.B, object]"
      ]
     },
     "execution_count": 117,
     "metadata": {},
     "output_type": "execute_result"
    }
   ],
   "source": [
    "class A :\n",
    "    a = 1\n",
    "\n",
    "    def print_a(self) :\n",
    "        print(\"class A\")\n",
    "        \n",
    "    def test(self) :\n",
    "        print(\"test A\")\n",
    "\n",
    "class B :\n",
    "    b = 1\n",
    "\n",
    "    def print_b(self) :\n",
    "        print(\"class B\")\n",
    "\n",
    "    def test(self) : # 함수 이름은 같으나 하는 역할이 다를 때\n",
    "        print(\"test B\") \n",
    "\n",
    "class C(A) :\n",
    "    c = 1\n",
    "\n",
    "    def print_c(self) :\n",
    "        print(\"class C\")\n",
    "\n",
    "class D(A, B) : # A, B에 공통된 것이 있을 때, 가장 먼저 온 클래스에 우선순위가 있음!\n",
    "    d=1\n",
    "\n",
    "class E(C, B) : # C는 이미 A를 상속받은 상태 => C가 A보다 우선\n",
    "    e = 1\n",
    "\n",
    "\n",
    "c_ex = C()\n",
    "c_ex.print_a()\n",
    "c_ex.print_c()\n",
    "\n",
    "d_ex = D()\n",
    "d_ex.test()\n",
    "\n",
    "D.mro # method resoution order 상속 우선순위선 보는 방법\n",
    "E.mro()"
   ]
  },
  {
   "cell_type": "code",
   "execution_count": 120,
   "id": "5370135e-c782-4dae-aa3a-7457588c8d19",
   "metadata": {},
   "outputs": [
    {
     "name": "stdout",
     "output_type": "stream",
     "text": [
      "This is A\n",
      "This is B\n"
     ]
    }
   ],
   "source": [
    "class A:\n",
    "    def __init__(self) :\n",
    "        print(\"This is A\")\n",
    "    def test1(self) :\n",
    "        pass\n",
    "    def test2(self) :\n",
    "        pass\n",
    "\n",
    "class B(A):\n",
    "    def __init__(self) :\n",
    "        super().__init__() # => A.__init__() 상위 클래스의 안에 있던 것에 접근하고자 한다면\n",
    "        # 현재 클래스의 상위 클래스 B에 대한 super => A\n",
    "        print(\"This is B\") # 상위 클래스를 덮어쓰는 것 : 매서드 오버라이딩\n",
    "        # super을 사용하여 A의 init에 접근했기 때문에 오버라이딩을 했음에도, A에 접근 가능\n",
    "b = B()"
   ]
  },
  {
   "cell_type": "code",
   "execution_count": 154,
   "id": "d86f3a25-ddea-43f9-a3f0-e6cf2031db49",
   "metadata": {},
   "outputs": [
    {
     "name": "stdout",
     "output_type": "stream",
     "text": [
      "<<계좌정보>>\n",
      "Name :  Gildong Hong\n",
      "Balance :  100\n",
      "===========\n",
      "\n",
      "\n",
      "고영희님에게 300원을 송금합니다.\n",
      "<<계좌정보>>\n",
      "Name :  고길동\n",
      "Balance :  700\n",
      "===========\n",
      "<<계좌정보>>\n",
      "Name :  고영희\n",
      "Balance :  500\n",
      "===========\n"
     ]
    }
   ],
   "source": [
    "##### 클래스 실습3 #####\n",
    "class BankAccount :\n",
    "    ##### 클래스 실습4 #####ㄱ\n",
    "    def __add__(self, amount) :\n",
    "        # acc + 100 -> acc.__add__(100)\n",
    "        self.balance += 100\n",
    "    #ㄴ#####################    \n",
    "    def __init__(self, balance=0, name=\"none\") :\n",
    "        self.balance = balance\n",
    "        self.name = name\n",
    "\n",
    "    def deposit(self, amount) :\n",
    "        self.balance += amount\n",
    "\n",
    "    \n",
    "    def withdraw(self, amount) :ㄱ\n",
    "        if self.balance - amount >= 0 :\n",
    "            self.balance -= amount\n",
    "        else :\n",
    "            return \"잔액이 부족합니다.\"\n",
    "\n",
    "    def get_info(self) :\n",
    "        print(\"<<계좌정보>>\")\n",
    "        print(\"Name : \", self.name)\n",
    "        print(\"Balance : \", self.balance)\n",
    "        print(\"===========\")\n",
    "    \n",
    "    def transfer(self, other, amount=0) :\n",
    "        if self.balance - amount >= 0 :\n",
    "            self.withdraw(amount)\n",
    "            other.deposit(amount)\n",
    "            print(f\"{other.name}님에게 {amount}원을 송금합니다.\")\n",
    "        else :\n",
    "            print(\"잔액이 부족합니다.\")\n",
    "\n",
    "\n",
    "########### 실행 결과 ###########\n",
    "a = BankAccount(100, \"Gildong Hong\")\n",
    "a.get_info()\n",
    "a.withdraw(30)\n",
    "a.deposit(100)\n",
    "print(\"\\n\")\n",
    "\n",
    "\n",
    "acc1 = BankAccount(1000, \"고길동\")\n",
    "acc2 = BankAccount(200, \"고영희\")\n",
    "acc1.transfer(acc2, 300)\n",
    "acc1.get_info()\n",
    "acc2.get_info()"
   ]
  },
  {
   "cell_type": "code",
   "execution_count": 146,
   "id": "c225cae0-e813-48ca-953e-98f284ba32fe",
   "metadata": {},
   "outputs": [
    {
     "name": "stdout",
     "output_type": "stream",
     "text": [
      "최소 잔액을 유지해야 합니다.\n"
     ]
    }
   ],
   "source": [
    "##### 클래스 실습3 #####\n",
    "\n",
    "# 각 계좌마다 최소로 유지해야하는 금액이 있을 때\n",
    "class MinimumBalanceAccount(BankAccount) : # BankAccount 클래스 상속\n",
    "    def __init__(self, balance=0, name=\"none\", min_bal=0) :\n",
    "        super().__init__(balance, name)\n",
    "        self.min_bal = min_bal ### 이케는 안 되는 것임?\n",
    "\n",
    "    def withdraw(self, amount) :\n",
    "        if self.balance - amount >= self.min_bal :\n",
    "            self.balance -= amount\n",
    "        else : \n",
    "            print(\"최소 잔액을 유지해야 합니다.\")\n",
    "\n",
    "\n",
    "acc = MinimumBalanceAccount(500, \"Kim\", 200)\n",
    "acc.withdraw(400) # 에러 문구 출력"
   ]
  },
  {
   "cell_type": "markdown",
   "id": "0d618138-b74c-4b7b-b4b8-a44301685fd9",
   "metadata": {},
   "source": [
    "---\n",
    "### 연산자 오버라이딩\n",
    "> - 파이썬의 연산자는 모두 내장된 특수 메서드를 호출함.\n",
    "> - 해당 메서드를 오버라이드 하는 것으로 기능 변경이 가능함"
   ]
  },
  {
   "cell_type": "code",
   "execution_count": 147,
   "id": "469627ce-03e3-420e-90a1-c311c6d85933",
   "metadata": {},
   "outputs": [
    {
     "data": {
      "text/plain": [
       "2"
      ]
     },
     "execution_count": 147,
     "metadata": {},
     "output_type": "execute_result"
    }
   ],
   "source": [
    "a=1\n",
    "b=1\n",
    "a + b\n",
    "a.__add__(b)"
   ]
  },
  {
   "cell_type": "code",
   "execution_count": 157,
   "id": "e2677852-d8e0-4f79-91b6-3b7ca9f8a583",
   "metadata": {},
   "outputs": [
    {
     "name": "stdout",
     "output_type": "stream",
     "text": [
      "1100\n"
     ]
    }
   ],
   "source": [
    "acc = BankAccount(1000, 'Kim')\n",
    "\n",
    "acc + 100\n",
    "# acc의 잔액이 100 증가하는 기능으로 오버라이드 하고 싶음\n",
    "'''TypeError: unsupported operand type(s) for +: 'BankAccount' and 'int'''\n",
    "\n",
    "print(acc.balance)"
   ]
  },
  {
   "cell_type": "code",
   "execution_count": null,
   "id": "781f3c0a-6ae6-4ce4-8231-93e2018ce233",
   "metadata": {},
   "outputs": [],
   "source": []
  },
  {
   "cell_type": "code",
   "execution_count": null,
   "id": "9a083007-2926-4f44-960d-19564124196d",
   "metadata": {},
   "outputs": [],
   "source": []
  }
 ],
 "metadata": {
  "kernelspec": {
   "display_name": "Python 3 (ipykernel)",
   "language": "python",
   "name": "python3"
  },
  "language_info": {
   "codemirror_mode": {
    "name": "ipython",
    "version": 3
   },
   "file_extension": ".py",
   "mimetype": "text/x-python",
   "name": "python",
   "nbconvert_exporter": "python",
   "pygments_lexer": "ipython3",
   "version": "3.11.5"
  }
 },
 "nbformat": 4,
 "nbformat_minor": 5
}
