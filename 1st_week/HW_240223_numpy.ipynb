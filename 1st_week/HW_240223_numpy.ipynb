{
 "cells": [
  {
   "cell_type": "code",
   "execution_count": 1,
   "id": "c78ee170",
   "metadata": {},
   "outputs": [
    {
     "name": "stdout",
     "output_type": "stream",
     "text": [
      "[[1 2 3]\n",
      " [4 5 6]]\n",
      "int64\n",
      "float64\n",
      "[[0. 0. 0. 0.]\n",
      " [0. 0. 0. 0.]\n",
      " [0. 0. 0. 0.]]\n",
      "[[[1 1 1 1]\n",
      "  [1 1 1 1]\n",
      "  [1 1 1 1]]\n",
      "\n",
      " [[1 1 1 1]\n",
      "  [1 1 1 1]\n",
      "  [1 1 1 1]]]\n",
      "[[1.39069238e-309 1.39069238e-309 1.39069238e-309]\n",
      " [1.39069238e-309 1.39069238e-309 1.39069238e-309]]\n",
      "[10 15 20 25]\n",
      "[0.  0.3 0.6 0.9 1.2 1.5 1.8]\n",
      "[0.   0.25 0.5  0.75 1.   1.25 1.5  1.75 2.  ]\n"
     ]
    },
    {
     "ename": "TypeError",
     "evalue": "'a' is an invalid keyword argument for print()",
     "output_type": "error",
     "traceback": [
      "\u001b[0;31m---------------------------------------------------------------------------\u001b[0m",
      "\u001b[0;31mTypeError\u001b[0m                                 Traceback (most recent call last)",
      "Cell \u001b[0;32mIn[1], line 24\u001b[0m\n\u001b[1;32m     22\u001b[0m \u001b[38;5;28mprint\u001b[39m(np\u001b[38;5;241m.\u001b[39marange(\u001b[38;5;241m0\u001b[39m, \u001b[38;5;241m2\u001b[39m, \u001b[38;5;241m0.3\u001b[39m))\n\u001b[1;32m     23\u001b[0m \u001b[38;5;28mprint\u001b[39m(np\u001b[38;5;241m.\u001b[39mlinspace(\u001b[38;5;241m0\u001b[39m, \u001b[38;5;241m2\u001b[39m, \u001b[38;5;241m9\u001b[39m))\n\u001b[0;32m---> 24\u001b[0m \u001b[38;5;28mprint\u001b[39m(a \u001b[38;5;241m=\u001b[39m np\u001b[38;5;241m.\u001b[39marange(\u001b[38;5;241m6\u001b[39m))\n\u001b[1;32m     25\u001b[0m \u001b[38;5;28mprint\u001b[39m(np\u001b[38;5;241m.\u001b[39marange(\u001b[38;5;241m12\u001b[39m)\u001b[38;5;241m.\u001b[39mreshape(\u001b[38;5;241m4\u001b[39m, \u001b[38;5;241m3\u001b[39m))\n\u001b[1;32m     26\u001b[0m c \u001b[38;5;241m=\u001b[39m np\u001b[38;5;241m.\u001b[39marange(\u001b[38;5;241m24\u001b[39m)\u001b[38;5;241m.\u001b[39mreshape(\u001b[38;5;241m2\u001b[39m, \u001b[38;5;241m3\u001b[39m, \u001b[38;5;241m4\u001b[39m)\n",
      "\u001b[0;31mTypeError\u001b[0m: 'a' is an invalid keyword argument for print()"
     ]
    }
   ],
   "source": [
    "import numpy as np\n",
    "a = np.array([[1, 2, 3], [4, 5, 6]])\n",
    "print(a)\n",
    "\n",
    "# array([2, 3, 4])\n",
    "print(a.dtype)\n",
    "\n",
    "a = np.zeros((1, 2))\n",
    "b = np.array([1.2, 3.5, 5.1])\n",
    "print(b.dtype)\n",
    "\n",
    "a = np.array([1, 2, 3, 4])\n",
    "\n",
    "\n",
    "# c = np.array([1, 2], [3, 4], dtype=complex)\n",
    "# print(c)\n",
    "\n",
    "print(np.zeros((3, 4)))\n",
    "print(np.ones((2, 3, 4), dtype=np.int16))\n",
    "print(np.empty((2, 3)))\n",
    "print(np.arange(10, 30, 5))\n",
    "print(np.arange(0, 2, 0.3))\n",
    "print(np.linspace(0, 2, 9))\n",
    "print(a = np.arange(6))\n",
    "print(np.arange(12).reshape(4, 3))\n",
    "c = np.arange(24).reshape(2, 3, 4)\n",
    "print(c)\n",
    "\n",
    "np.arange(0, 2, 0.3) # 0.3은 step\n",
    "a = np.linspace(0, 2, 9) # 9는 개수\n",
    "print(a) \n",
    "\n",
    "a = np.arange(6)\n",
    "print(a)\n",
    "\n",
    "b = np.arange(12).reshape(4, 3)\n",
    "print(b)\n",
    "\n",
    "c = np.arange(24).reshape(2, 3, 4)\n",
    "print(c)\n",
    "\n",
    "x = np.arange(10)\n",
    "print(x)\n",
    "\n",
    "print(x[2], x[-2])\n",
    "\n",
    "x.shape = (2, 5)"
   ]
  },
  {
   "cell_type": "code",
   "execution_count": 2,
   "id": "ac46dbf3",
   "metadata": {},
   "outputs": [
    {
     "name": "stdout",
     "output_type": "stream",
     "text": [
      "[[1 2 3]\n",
      " [4 5 6]]\n"
     ]
    }
   ],
   "source": [
    "import numpy as np\n",
    "a = np.array([[1, 2, 3], [4, 5, 6]])\n",
    "print(a)"
   ]
  },
  {
   "cell_type": "code",
   "execution_count": 3,
   "id": "e96b996f",
   "metadata": {},
   "outputs": [
    {
     "name": "stdout",
     "output_type": "stream",
     "text": [
      "[0 1 2 3 4 5 6 7 8 9]\n",
      "\n",
      "[[0 1 2 3 4]\n",
      " [5 6 7 8 9]]\n"
     ]
    }
   ],
   "source": [
    "x = np.arange(10)\n",
    "\n",
    "print(x)\n",
    "print()\n",
    "\n",
    "x.shape = (2, 5)\n",
    "print(x)"
   ]
  },
  {
   "cell_type": "code",
   "execution_count": 5,
   "id": "8c1a9347",
   "metadata": {},
   "outputs": [
    {
     "name": "stdout",
     "output_type": "stream",
     "text": [
      "[[1 2 3]\n",
      " [4 5 6]\n",
      " [7 8 9]]\n",
      "\n",
      "[1 6 7 2]\n"
     ]
    }
   ],
   "source": [
    "a = np.array([[1, 2, 3], [4, 5, 6], [7, 8, 9]])\n",
    "\n",
    "print(a)\n",
    "print()\n",
    "\n",
    "print(a[[0, 1, 2, 0], [0, 2, 0, 1]])\n",
    "#a[0, 0]\n",
    "#a[1, 2]\n",
    "#a[2, 0]\n",
    "#a[0, 1]"
   ]
  },
  {
   "cell_type": "code",
   "execution_count": 9,
   "id": "65ad0658",
   "metadata": {},
   "outputs": [
    {
     "name": "stdout",
     "output_type": "stream",
     "text": [
      "[0 1 2 3 4 5 6 7 8 9]\n",
      "\n",
      "[2 3 4]\n",
      "\n",
      "[0 1 2]\n"
     ]
    }
   ],
   "source": [
    "x = np.arange(10)\n",
    "print(x)\n",
    "print()\n",
    "\n",
    "print(x[2:5]) # step <- 1 [2, 3, 4]\n",
    "print()\n",
    "\n",
    "print(x[:-7]) # start <- 0 [0, 1, 2]"
   ]
  },
  {
   "cell_type": "code",
   "execution_count": 16,
   "id": "bc16f5da",
   "metadata": {},
   "outputs": [
    {
     "name": "stdout",
     "output_type": "stream",
     "text": [
      "[[ 0  1  2  3  4  5  6]\n",
      " [ 7  8  9 10 11 12 13]\n",
      " [14 15 16 17 18 19 20]\n",
      " [21 22 23 24 25 26 27]\n",
      " [28 29 30 31 32 33 34]]\n",
      "\n",
      "[[ 7 10 13]\n",
      " [21 24 27]]\n"
     ]
    }
   ],
   "source": [
    "y = np.arange(35).reshape(5, 7)\n",
    "print(y) # 1D\n",
    "\n",
    "print()\n",
    "\n",
    "print(y[1: 5: 2, ::3]) # [1:5:2] -> 1, 3행 출력 [0: 끝까지: 3] -> 0, 3, 6"
   ]
  },
  {
   "cell_type": "code",
   "execution_count": 19,
   "id": "2d441ef3",
   "metadata": {},
   "outputs": [
    {
     "name": "stdout",
     "output_type": "stream",
     "text": [
      "[[0 1 2]\n",
      " [3 4 5]]\n",
      "\n",
      "[[False False False]\n",
      " [ True  True  True]]\n",
      "\n",
      "[3 4 5]\n",
      "[3 4 5]\n"
     ]
    }
   ],
   "source": [
    "a = np.array(range(6)).reshape(2,3)\n",
    "print(a)\n",
    "print()\n",
    "\n",
    "bool_idx = a > 2\n",
    "print(bool_idx)\n",
    "\n",
    "print()\n",
    "print(a[bool_idx])\n",
    "\n",
    "print(a[a > 2]) #a에서 특정 요소 뽑는데 2보다 큰 것들만 뽑아와라 a[bool_idx]와 같음"
   ]
  },
  {
   "cell_type": "code",
   "execution_count": 22,
   "id": "2a882d73",
   "metadata": {},
   "outputs": [
    {
     "name": "stdout",
     "output_type": "stream",
     "text": [
      "[[ 1  2  3  4]\n",
      " [ 5  6  7  8]\n",
      " [ 9 10 11 12]]\n",
      "\n",
      "[[1 2 3 4]\n",
      " [5 6 7 8]]\n",
      "\n",
      "[[-1  2  3  4]\n",
      " [ 5  6  7  8]]\n",
      "\n",
      "[[ 1  2  3  4]\n",
      " [ 5  6  7  8]\n",
      " [ 9 10 11 12]]\n"
     ]
    }
   ],
   "source": [
    "a = np.array([[1, 2, 3, 4], [5, 6, 7, 8], [9, 10, 11, 12]])\n",
    "print(a)\n",
    "print()\n",
    "\n",
    "b = np.copy(a[:2]) # 0, 1\n",
    "print(b)\n",
    "print()\n",
    "\n",
    "b[0, 0] = -1\n",
    "print(b)\n",
    "\n",
    "print()\n",
    "print(a)"
   ]
  },
  {
   "cell_type": "code",
   "execution_count": 24,
   "id": "bf68186e",
   "metadata": {},
   "outputs": [
    {
     "data": {
      "text/plain": [
       "False"
      ]
     },
     "execution_count": 24,
     "metadata": {},
     "output_type": "execute_result"
    }
   ],
   "source": [
    "import torch\n",
    "torch.cuda.is_available()"
   ]
  },
  {
   "cell_type": "code",
   "execution_count": 31,
   "id": "7f3155d8",
   "metadata": {},
   "outputs": [
    {
     "name": "stdout",
     "output_type": "stream",
     "text": [
      "[[0. 0. 0. 0.]\n",
      " [0. 0. 0. 0.]\n",
      " [0. 0. 0. 0.]]\n",
      "\n",
      "[0. 0. 0. 0. 0. 0. 0. 0. 0. 0. 0. 0.]\n",
      "\n",
      "<built-in method reshape of numpy.ndarray object at 0x7fd95bfeb090>\n",
      "\n",
      "[[0. 0. 0. 0. 0. 0.]\n",
      " [0. 0. 0. 0. 0. 0.]]\n"
     ]
    },
    {
     "data": {
      "text/plain": [
       "array([[0., 0., 0., 0.],\n",
       "       [0., 0., 0., 0.],\n",
       "       [0., 0., 0., 0.]])"
      ]
     },
     "execution_count": 31,
     "metadata": {},
     "output_type": "execute_result"
    }
   ],
   "source": [
    "a = np.floor(np.random.random((3, 4)))\n",
    "print(a)\n",
    "print()\n",
    "\n",
    "print(a.ravel()) # returns the array, flattened\n",
    "print()\n",
    "\n",
    "print(a.reshape)\n",
    "print()\n",
    "\n",
    "a.resize((2, 6))\n",
    "print(a)\n",
    "\n",
    "a.reshape(3, -1)"
   ]
  },
  {
   "cell_type": "code",
   "execution_count": 4,
   "id": "d7309eb6",
   "metadata": {},
   "outputs": [
    {
     "name": "stdout",
     "output_type": "stream",
     "text": [
      "[[1. 1. 1. 1. 1.]\n",
      " [1. 0. 0. 0. 1.]\n",
      " [1. 0. 0. 0. 1.]\n",
      " [1. 0. 0. 0. 1.]\n",
      " [1. 1. 1. 1. 1.]]\n",
      "\n",
      "[[0. 0. 0. 0. 0.]\n",
      " [0. 1. 1. 1. 0.]\n",
      " [0. 1. 1. 1. 0.]\n",
      " [0. 1. 1. 1. 0.]\n",
      " [0. 0. 0. 0. 0.]]\n",
      "\n",
      "[[0. 0. 0. 0. 0.]\n",
      " [0. 1. 1. 1. 0.]\n",
      " [0. 1. 1. 1. 0.]\n",
      " [0. 1. 1. 1. 0.]\n",
      " [0. 0. 0. 0. 0.]]\n"
     ]
    }
   ],
   "source": [
    "# 작성 코드\n",
    "arr = np.zeros((5, 5))\n",
    "for i in [0,4]:\n",
    "    arr[i, :] = 1\n",
    "    arr[:, i] = 1\n",
    "print(arr)\n",
    "print()\n",
    "\n",
    "# 예시 코드 1\n",
    "arr = np.ones((5, 5))\n",
    "for i in [0, 4]:\n",
    "    arr[i, :] = 0\n",
    "    arr[:, i] = 0\n",
    "print(arr)\n",
    "print()\n",
    "\n",
    "# 예시 코드 2\n",
    "x = np.ones((3, 3))\n",
    "x = np.pad(x, pad_width=1, mode='constant', constant_values=0)\n",
    "print(x)"
   ]
  },
  {
   "cell_type": "code",
   "execution_count": 85,
   "id": "a3feb625",
   "metadata": {},
   "outputs": [
    {
     "name": "stdout",
     "output_type": "stream",
     "text": [
      "[[0 1 0 1 0 1 0 1]\n",
      " [1 0 1 0 1 0 1 0]\n",
      " [0 1 0 1 0 1 0 1]\n",
      " [1 0 1 0 1 0 1 0]\n",
      " [0 1 0 1 0 1 0 1]\n",
      " [1 0 1 0 1 0 1 0]\n",
      " [0 1 0 1 0 1 0 1]\n",
      " [1 0 1 0 1 0 1 0]]\n",
      "\n",
      "[[0 1 0 1 0 1 0 1]\n",
      " [1 0 1 0 1 0 1 0]\n",
      " [0 1 0 1 0 1 0 1]\n",
      " [1 0 1 0 1 0 1 0]\n",
      " [0 1 0 1 0 1 0 1]\n",
      " [1 0 1 0 1 0 1 0]\n",
      " [0 1 0 1 0 1 0 1]\n",
      " [1 0 1 0 1 0 1 0]]\n"
     ]
    }
   ],
   "source": [
    "# 작성 코드\n",
    "arr = np.zeros((8, 8), dtype=intarr = np.zeros((8, 8), dtype=int드)\n",
    "\n",
    "for i in range(8):\n",
    "    for j in range(8):\n",
    "        if (i+j) % 2 == 1:\n",
    "            arr[i,j] = 1\n",
    "\n",
    "\n",
    "print(arr)\n",
    "print()\n",
    "\n",
    "# 예시 코드\n",
    "x = np.zeros((8, 8), dtype = int)\n",
    "\n",
    "x[1::2, ::2] = 1\n",
    "x[::2, 1::2] = 1\n",
    "print(x)"
   ]
  },
  {
   "cell_type": "code",
   "execution_count": 87,
   "id": "fc95bf03",
   "metadata": {},
   "outputs": [
    {
     "name": "stdout",
     "output_type": "stream",
     "text": [
      "[[[180  72]\n",
      "  [172  66]\n",
      "  [162  60]\n",
      "  [167  53]]\n",
      "\n",
      " [[176  80]\n",
      "  [155  60]\n",
      "  [177  77]\n",
      "  [130  40]]]\n"
     ]
    }
   ],
   "source": [
    "cls = np.array([180, 72, 172, 66, 162, 60, 167, 53, 176, 80, 155, 60, 177, 77, 130, 40])\n",
    "cls.resize(2, len(cls)//4, 2)\n",
    "print(cls)"
   ]
  },
  {
   "cell_type": "code",
   "execution_count": null,
   "id": "ef4c1518",
   "metadata": {},
   "outputs": [],
   "source": [
    "x = np.array([[1, 2],\n",
    "             [3, 4]])\n",
    "y = np.array([[5, 6],\n",
    "              [7, 8]])\n",
    "\n",
    "print(x + y)\n",
    "print(x - y)"
   ]
  }
 ],
 "metadata": {
  "kernelspec": {
   "display_name": "Python 3 (ipykernel)",
   "language": "python",
   "name": "python3"
  },
  "language_info": {
   "codemirror_mode": {
    "name": "ipython",
    "version": 3
   },
   "file_extension": ".py",
   "mimetype": "text/x-python",
   "name": "python",
   "nbconvert_exporter": "python",
   "pygments_lexer": "ipython3",
   "version": "3.11.5"
  }
 },
 "nbformat": 4,
 "nbformat_minor": 5
}
