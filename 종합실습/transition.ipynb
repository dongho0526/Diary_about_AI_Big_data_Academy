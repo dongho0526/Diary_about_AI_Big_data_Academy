{
 "cells": [
  {
   "cell_type": "code",
   "execution_count": null,
   "metadata": {},
   "outputs": [],
   "source": [
    "import pandas as pd\n",
    "import numpy as np\n",
    "import seaborn as sns\n",
    "import matplotlib.pyplot as plt\n",
    "import matplotlib"
   ]
  },
  {
   "cell_type": "code",
   "execution_count": null,
   "metadata": {},
   "outputs": [],
   "source": [
    "df = pd.read_csv('preprocessed_data.csv', encoding='euc-kr')\n",
    "df['Owner_Type'].value_counts()"
   ]
  },
  {
   "cell_type": "code",
   "execution_count": 1,
   "metadata": {},
   "outputs": [
    {
     "ename": "NameError",
     "evalue": "name 'df' is not defined",
     "output_type": "error",
     "traceback": [
      "\u001b[0;31m---------------------------------------------------------------------------\u001b[0m",
      "\u001b[0;31mNameError\u001b[0m                                 Traceback (most recent call last)",
      "Cell \u001b[0;32mIn[1], line 1\u001b[0m\n\u001b[0;32m----> 1\u001b[0m \u001b[43mdf\u001b[49m[\u001b[38;5;124m\"\u001b[39m\u001b[38;5;124mMileage(km/L)\u001b[39m\u001b[38;5;124m\"\u001b[39m]\u001b[38;5;241m.\u001b[39mdescribe()\n\u001b[1;32m      3\u001b[0m missing_mileage \u001b[38;5;241m=\u001b[39m df[df[\u001b[38;5;124m'\u001b[39m\u001b[38;5;124mMileage(km/L)\u001b[39m\u001b[38;5;124m'\u001b[39m]\u001b[38;5;241m.\u001b[39misnull()]\n\u001b[1;32m      4\u001b[0m missing_mileage\n",
      "\u001b[0;31mNameError\u001b[0m: name 'df' is not defined"
     ]
    }
   ],
   "source": [
    "df[\"Mileage(km/L)\"].describe()\n",
    "\n",
    "missing_mileage = df[df['Mileage(km/L)'].isnull()]\n",
    "missing_mileage\n",
    "\n",
    "\n",
    "New_Electronic = {\n",
    "    'Mahindra E Verito D4' : [288, 140],\n",
    "    'Toyota Prius 2009-2016 14' : []\n",
    "}\n",
    "\n",
    "\n",
    "\n",
    "# 배터리 용량(Ah)\n",
    "battery_capacity_Ah = 288\n",
    "# 전압(V)\n",
    "voltage_V = 350\n",
    "# 주행 거리(km)\n",
    "distance_km = 140\n",
    "\n",
    "# 용량을 kWh로 변환\n",
    "battery_capacity_kWh = (battery_capacity_Ah * voltage_V) / 1000\n",
    "\n",
    "\n",
    "# 주행 거리당 에너지 소비량 계산\n",
    "electric_efficiency_kWh_per_km = battery_capacity_kWh / distance_km\n",
    "print(electric_efficiency_kWh_per_km*8.4)\n",
    "print(electric_efficiency_kWh_per_km)\n",
    "gasoline_to_kWh = 33.7\n",
    "\n",
    "gallon_to_liter = 3.78541\n",
    "\n",
    "\n",
    "gasoline_efficiency_km_per_gallon = electric_efficiency_kWh_per_km * gasoline_to_kWh\n",
    "\n",
    "gasoline_efficiency_km_per_liter = gasoline_efficiency_km_per_gallon * gallon_to_liter\n",
    "print(\"휘발유 연비: {:.2f} km/liter\".format(gasoline_efficiency_km_per_liter))\n",
    "\n",
    "\n",
    "\n",
    "\n",
    "\n",
    "\n",
    "\n",
    "# 연비 (km/kwh) 배터리 용량(kWh) 주행거리(km)\n",
    "Electronic = {\n",
    "    'ionic' : [6.3, 38.33, 277],\n",
    "    'ionic(HP)' : [6.3, 38.33, 277],\n",
    "    'model3' : [5.8, 48, 352],\n",
    "    'kona(economic)' : [5.8, 39.24, 254],\n",
    "    'kona(HP)' :[5.6, 64.08, 405],\n",
    "    'kona' : [5.6, 64.06, 405],\n",
    "    'i3' : [5.6, 42.36, 248],\n",
    "    'soul(economic)' : [5.6, 39.24, 254],\n",
    "    'niro(economic)' : [5.5, 39.24, 247],\n",
    "    'volt' : [5.4, 65.94, 414],\n",
    "    'soul' : [5.4, 64.08, 385],\n",
    "    'niro' : [5.3, 64.08, 385],\n",
    "    'niro(HP)' : [5.3, 64.08, 385],\n",
    "    'joe' : [4.8, 54.50, 309],\n",
    "    'e-208' : [4.4, 47.40, 244],\n",
    "    'e-20008' : [4.3, 50, 237],\n",
    "    'DS3' : [4.3, 50, 237]\n",
    "}\n",
    "\n",
    "\n",
    "\n",
    "\n",
    "\n",
    "import statistics\n",
    "percentage = 0\n",
    "arr = []\n",
    "for key, value in Electronic.items():\n",
    "    # print(value)\n",
    "    arr.append(value[0]/(value[2]/value[1]))\n",
    "\n",
    "mean = statistics.mean(arr)\n",
    "print(mean)\n",
    "\n"
   ]
  }
 ],
 "metadata": {
  "kernelspec": {
   "display_name": "base",
   "language": "python",
   "name": "python3"
  },
  "language_info": {
   "codemirror_mode": {
    "name": "ipython",
    "version": 3
   },
   "file_extension": ".py",
   "mimetype": "text/x-python",
   "name": "python",
   "nbconvert_exporter": "python",
   "pygments_lexer": "ipython3",
   "version": "3.10.13"
  }
 },
 "nbformat": 4,
 "nbformat_minor": 2
}
