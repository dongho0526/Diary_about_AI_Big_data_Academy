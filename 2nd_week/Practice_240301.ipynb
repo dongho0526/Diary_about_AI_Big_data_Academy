{
 "cells": [
  {
   "cell_type": "code",
   "execution_count": 33,
   "metadata": {},
   "outputs": [],
   "source": [
    "import pandas as pd\n",
    "import numpy as np\n",
    "import matplotlib\n",
    "import matplotlib.pyplot as plt\n",
    "from scipy import stats\n",
    "from statsmodels.stats.proportion import proportions_ztest\n",
    "import os\n",
    "\n",
    "%matplotlib inline"
   ]
  },
  {
   "cell_type": "code",
   "execution_count": 34,
   "metadata": {},
   "outputs": [],
   "source": [
    "folder_path = '/home/piai/python_study/Posco_AI_Big_data_Academy_Practice/실습파일/1 Big Data 분석 기초'"
   ]
  },
  {
   "cell_type": "code",
   "execution_count": 35,
   "metadata": {},
   "outputs": [
    {
     "data": {
      "text/html": [
       "<div>\n",
       "<style scoped>\n",
       "    .dataframe tbody tr th:only-of-type {\n",
       "        vertical-align: middle;\n",
       "    }\n",
       "\n",
       "    .dataframe tbody tr th {\n",
       "        vertical-align: top;\n",
       "    }\n",
       "\n",
       "    .dataframe thead th {\n",
       "        text-align: right;\n",
       "    }\n",
       "</style>\n",
       "<table border=\"1\" class=\"dataframe\">\n",
       "  <thead>\n",
       "    <tr style=\"text-align: right;\">\n",
       "      <th></th>\n",
       "      <th>displacement</th>\n",
       "      <th>year</th>\n",
       "      <th>cylinder</th>\n",
       "      <th>mpg</th>\n",
       "      <th>highway_mileage</th>\n",
       "    </tr>\n",
       "  </thead>\n",
       "  <tbody>\n",
       "    <tr>\n",
       "      <th>count</th>\n",
       "      <td>234.000</td>\n",
       "      <td>234.00</td>\n",
       "      <td>234.000</td>\n",
       "      <td>234.000</td>\n",
       "      <td>234.000</td>\n",
       "    </tr>\n",
       "    <tr>\n",
       "      <th>mean</th>\n",
       "      <td>3.472</td>\n",
       "      <td>2003.50</td>\n",
       "      <td>5.889</td>\n",
       "      <td>16.859</td>\n",
       "      <td>23.440</td>\n",
       "    </tr>\n",
       "    <tr>\n",
       "      <th>std</th>\n",
       "      <td>1.292</td>\n",
       "      <td>4.51</td>\n",
       "      <td>1.612</td>\n",
       "      <td>4.256</td>\n",
       "      <td>5.955</td>\n",
       "    </tr>\n",
       "    <tr>\n",
       "      <th>min</th>\n",
       "      <td>1.600</td>\n",
       "      <td>1999.00</td>\n",
       "      <td>4.000</td>\n",
       "      <td>9.000</td>\n",
       "      <td>12.000</td>\n",
       "    </tr>\n",
       "    <tr>\n",
       "      <th>25%</th>\n",
       "      <td>2.400</td>\n",
       "      <td>1999.00</td>\n",
       "      <td>4.000</td>\n",
       "      <td>14.000</td>\n",
       "      <td>18.000</td>\n",
       "    </tr>\n",
       "    <tr>\n",
       "      <th>50%</th>\n",
       "      <td>3.300</td>\n",
       "      <td>2003.50</td>\n",
       "      <td>6.000</td>\n",
       "      <td>17.000</td>\n",
       "      <td>24.000</td>\n",
       "    </tr>\n",
       "    <tr>\n",
       "      <th>75%</th>\n",
       "      <td>4.600</td>\n",
       "      <td>2008.00</td>\n",
       "      <td>8.000</td>\n",
       "      <td>19.000</td>\n",
       "      <td>27.000</td>\n",
       "    </tr>\n",
       "    <tr>\n",
       "      <th>max</th>\n",
       "      <td>7.000</td>\n",
       "      <td>2008.00</td>\n",
       "      <td>8.000</td>\n",
       "      <td>35.000</td>\n",
       "      <td>44.000</td>\n",
       "    </tr>\n",
       "  </tbody>\n",
       "</table>\n",
       "</div>"
      ],
      "text/plain": [
       "       displacement     year  cylinder      mpg  highway_mileage\n",
       "count       234.000   234.00   234.000  234.000          234.000\n",
       "mean          3.472  2003.50     5.889   16.859           23.440\n",
       "std           1.292     4.51     1.612    4.256            5.955\n",
       "min           1.600  1999.00     4.000    9.000           12.000\n",
       "25%           2.400  1999.00     4.000   14.000           18.000\n",
       "50%           3.300  2003.50     6.000   17.000           24.000\n",
       "75%           4.600  2008.00     8.000   19.000           27.000\n",
       "max           7.000  2008.00     8.000   35.000           44.000"
      ]
     },
     "execution_count": 35,
     "metadata": {},
     "output_type": "execute_result"
    }
   ],
   "source": [
    "mycars = pd.read_csv(os.path.join(folder_path, 'mycars.csv'))\n",
    "mycars.head()\n",
    "mycars.describe().round(3)"
   ]
  },
  {
   "cell_type": "code",
   "execution_count": 36,
   "metadata": {},
   "outputs": [
    {
     "data": {
      "text/html": [
       "<div>\n",
       "<style scoped>\n",
       "    .dataframe tbody tr th:only-of-type {\n",
       "        vertical-align: middle;\n",
       "    }\n",
       "\n",
       "    .dataframe tbody tr th {\n",
       "        vertical-align: top;\n",
       "    }\n",
       "\n",
       "    .dataframe thead tr th {\n",
       "        text-align: left;\n",
       "    }\n",
       "\n",
       "    .dataframe thead tr:last-of-type th {\n",
       "        text-align: right;\n",
       "    }\n",
       "</style>\n",
       "<table border=\"1\" class=\"dataframe\">\n",
       "  <thead>\n",
       "    <tr>\n",
       "      <th></th>\n",
       "      <th colspan=\"8\" halign=\"left\">mpg</th>\n",
       "    </tr>\n",
       "    <tr>\n",
       "      <th></th>\n",
       "      <th>count</th>\n",
       "      <th>mean</th>\n",
       "      <th>std</th>\n",
       "      <th>min</th>\n",
       "      <th>25%</th>\n",
       "      <th>50%</th>\n",
       "      <th>75%</th>\n",
       "      <th>max</th>\n",
       "    </tr>\n",
       "    <tr>\n",
       "      <th>model</th>\n",
       "      <th></th>\n",
       "      <th></th>\n",
       "      <th></th>\n",
       "      <th></th>\n",
       "      <th></th>\n",
       "      <th></th>\n",
       "      <th></th>\n",
       "      <th></th>\n",
       "    </tr>\n",
       "  </thead>\n",
       "  <tbody>\n",
       "    <tr>\n",
       "      <th>4runner 4wd</th>\n",
       "      <td>6.0</td>\n",
       "      <td>15.166667</td>\n",
       "      <td>0.752773</td>\n",
       "      <td>14.0</td>\n",
       "      <td>15.00</td>\n",
       "      <td>15.0</td>\n",
       "      <td>15.75</td>\n",
       "      <td>16.0</td>\n",
       "    </tr>\n",
       "    <tr>\n",
       "      <th>a4</th>\n",
       "      <td>7.0</td>\n",
       "      <td>18.857143</td>\n",
       "      <td>1.864454</td>\n",
       "      <td>16.0</td>\n",
       "      <td>18.00</td>\n",
       "      <td>18.0</td>\n",
       "      <td>20.50</td>\n",
       "      <td>21.0</td>\n",
       "    </tr>\n",
       "    <tr>\n",
       "      <th>a4 quattro</th>\n",
       "      <td>8.0</td>\n",
       "      <td>17.125000</td>\n",
       "      <td>1.807722</td>\n",
       "      <td>15.0</td>\n",
       "      <td>15.75</td>\n",
       "      <td>17.0</td>\n",
       "      <td>18.25</td>\n",
       "      <td>20.0</td>\n",
       "    </tr>\n",
       "    <tr>\n",
       "      <th>a6 quattro</th>\n",
       "      <td>3.0</td>\n",
       "      <td>16.000000</td>\n",
       "      <td>1.000000</td>\n",
       "      <td>15.0</td>\n",
       "      <td>15.50</td>\n",
       "      <td>16.0</td>\n",
       "      <td>16.50</td>\n",
       "      <td>17.0</td>\n",
       "    </tr>\n",
       "    <tr>\n",
       "      <th>altima</th>\n",
       "      <td>6.0</td>\n",
       "      <td>20.666667</td>\n",
       "      <td>1.966384</td>\n",
       "      <td>19.0</td>\n",
       "      <td>19.00</td>\n",
       "      <td>20.0</td>\n",
       "      <td>22.50</td>\n",
       "      <td>23.0</td>\n",
       "    </tr>\n",
       "    <tr>\n",
       "      <th>c1500 suburban 2wd</th>\n",
       "      <td>5.0</td>\n",
       "      <td>12.800000</td>\n",
       "      <td>1.303840</td>\n",
       "      <td>11.0</td>\n",
       "      <td>12.00</td>\n",
       "      <td>13.0</td>\n",
       "      <td>14.00</td>\n",
       "      <td>14.0</td>\n",
       "    </tr>\n",
       "    <tr>\n",
       "      <th>camry</th>\n",
       "      <td>7.0</td>\n",
       "      <td>19.857143</td>\n",
       "      <td>1.463850</td>\n",
       "      <td>18.0</td>\n",
       "      <td>18.50</td>\n",
       "      <td>21.0</td>\n",
       "      <td>21.00</td>\n",
       "      <td>21.0</td>\n",
       "    </tr>\n",
       "    <tr>\n",
       "      <th>camry solara</th>\n",
       "      <td>7.0</td>\n",
       "      <td>19.857143</td>\n",
       "      <td>1.772811</td>\n",
       "      <td>18.0</td>\n",
       "      <td>18.00</td>\n",
       "      <td>21.0</td>\n",
       "      <td>21.00</td>\n",
       "      <td>22.0</td>\n",
       "    </tr>\n",
       "    <tr>\n",
       "      <th>caravan 2wd</th>\n",
       "      <td>11.0</td>\n",
       "      <td>15.818182</td>\n",
       "      <td>1.834022</td>\n",
       "      <td>11.0</td>\n",
       "      <td>15.50</td>\n",
       "      <td>16.0</td>\n",
       "      <td>17.00</td>\n",
       "      <td>18.0</td>\n",
       "    </tr>\n",
       "    <tr>\n",
       "      <th>civic</th>\n",
       "      <td>9.0</td>\n",
       "      <td>24.444444</td>\n",
       "      <td>1.943651</td>\n",
       "      <td>21.0</td>\n",
       "      <td>24.00</td>\n",
       "      <td>24.0</td>\n",
       "      <td>25.00</td>\n",
       "      <td>28.0</td>\n",
       "    </tr>\n",
       "    <tr>\n",
       "      <th>corolla</th>\n",
       "      <td>5.0</td>\n",
       "      <td>25.600000</td>\n",
       "      <td>1.673320</td>\n",
       "      <td>24.0</td>\n",
       "      <td>24.00</td>\n",
       "      <td>26.0</td>\n",
       "      <td>26.00</td>\n",
       "      <td>28.0</td>\n",
       "    </tr>\n",
       "    <tr>\n",
       "      <th>corvette</th>\n",
       "      <td>5.0</td>\n",
       "      <td>15.400000</td>\n",
       "      <td>0.547723</td>\n",
       "      <td>15.0</td>\n",
       "      <td>15.00</td>\n",
       "      <td>15.0</td>\n",
       "      <td>16.00</td>\n",
       "      <td>16.0</td>\n",
       "    </tr>\n",
       "    <tr>\n",
       "      <th>dakota pickup 4wd</th>\n",
       "      <td>9.0</td>\n",
       "      <td>12.777778</td>\n",
       "      <td>1.986063</td>\n",
       "      <td>9.0</td>\n",
       "      <td>11.00</td>\n",
       "      <td>14.0</td>\n",
       "      <td>14.00</td>\n",
       "      <td>15.0</td>\n",
       "    </tr>\n",
       "    <tr>\n",
       "      <th>durango 4wd</th>\n",
       "      <td>7.0</td>\n",
       "      <td>11.857143</td>\n",
       "      <td>1.573592</td>\n",
       "      <td>9.0</td>\n",
       "      <td>11.00</td>\n",
       "      <td>13.0</td>\n",
       "      <td>13.00</td>\n",
       "      <td>13.0</td>\n",
       "    </tr>\n",
       "    <tr>\n",
       "      <th>expedition 2wd</th>\n",
       "      <td>3.0</td>\n",
       "      <td>11.333333</td>\n",
       "      <td>0.577350</td>\n",
       "      <td>11.0</td>\n",
       "      <td>11.00</td>\n",
       "      <td>11.0</td>\n",
       "      <td>11.50</td>\n",
       "      <td>12.0</td>\n",
       "    </tr>\n",
       "    <tr>\n",
       "      <th>explorer 4wd</th>\n",
       "      <td>6.0</td>\n",
       "      <td>13.666667</td>\n",
       "      <td>0.816497</td>\n",
       "      <td>13.0</td>\n",
       "      <td>13.00</td>\n",
       "      <td>13.5</td>\n",
       "      <td>14.00</td>\n",
       "      <td>15.0</td>\n",
       "    </tr>\n",
       "    <tr>\n",
       "      <th>f150 pickup 4wd</th>\n",
       "      <td>7.0</td>\n",
       "      <td>13.000000</td>\n",
       "      <td>1.000000</td>\n",
       "      <td>11.0</td>\n",
       "      <td>13.00</td>\n",
       "      <td>13.0</td>\n",
       "      <td>13.50</td>\n",
       "      <td>14.0</td>\n",
       "    </tr>\n",
       "    <tr>\n",
       "      <th>forester awd</th>\n",
       "      <td>6.0</td>\n",
       "      <td>18.833333</td>\n",
       "      <td>0.983192</td>\n",
       "      <td>18.0</td>\n",
       "      <td>18.00</td>\n",
       "      <td>18.5</td>\n",
       "      <td>19.75</td>\n",
       "      <td>20.0</td>\n",
       "    </tr>\n",
       "    <tr>\n",
       "      <th>grand cherokee 4wd</th>\n",
       "      <td>8.0</td>\n",
       "      <td>13.500000</td>\n",
       "      <td>2.507133</td>\n",
       "      <td>9.0</td>\n",
       "      <td>12.50</td>\n",
       "      <td>14.0</td>\n",
       "      <td>15.00</td>\n",
       "      <td>17.0</td>\n",
       "    </tr>\n",
       "    <tr>\n",
       "      <th>grand prix</th>\n",
       "      <td>5.0</td>\n",
       "      <td>17.000000</td>\n",
       "      <td>1.000000</td>\n",
       "      <td>16.0</td>\n",
       "      <td>16.00</td>\n",
       "      <td>17.0</td>\n",
       "      <td>18.00</td>\n",
       "      <td>18.0</td>\n",
       "    </tr>\n",
       "    <tr>\n",
       "      <th>gti</th>\n",
       "      <td>5.0</td>\n",
       "      <td>20.000000</td>\n",
       "      <td>2.000000</td>\n",
       "      <td>17.0</td>\n",
       "      <td>19.00</td>\n",
       "      <td>21.0</td>\n",
       "      <td>21.00</td>\n",
       "      <td>22.0</td>\n",
       "    </tr>\n",
       "    <tr>\n",
       "      <th>impreza awd</th>\n",
       "      <td>8.0</td>\n",
       "      <td>19.625000</td>\n",
       "      <td>0.744024</td>\n",
       "      <td>19.0</td>\n",
       "      <td>19.00</td>\n",
       "      <td>19.5</td>\n",
       "      <td>20.00</td>\n",
       "      <td>21.0</td>\n",
       "    </tr>\n",
       "    <tr>\n",
       "      <th>jetta</th>\n",
       "      <td>9.0</td>\n",
       "      <td>21.222222</td>\n",
       "      <td>4.867694</td>\n",
       "      <td>16.0</td>\n",
       "      <td>19.00</td>\n",
       "      <td>21.0</td>\n",
       "      <td>21.00</td>\n",
       "      <td>33.0</td>\n",
       "    </tr>\n",
       "    <tr>\n",
       "      <th>k1500 tahoe 4wd</th>\n",
       "      <td>4.0</td>\n",
       "      <td>12.500000</td>\n",
       "      <td>1.732051</td>\n",
       "      <td>11.0</td>\n",
       "      <td>11.00</td>\n",
       "      <td>12.5</td>\n",
       "      <td>14.00</td>\n",
       "      <td>14.0</td>\n",
       "    </tr>\n",
       "    <tr>\n",
       "      <th>land cruiser wagon 4wd</th>\n",
       "      <td>2.0</td>\n",
       "      <td>12.000000</td>\n",
       "      <td>1.414214</td>\n",
       "      <td>11.0</td>\n",
       "      <td>11.50</td>\n",
       "      <td>12.0</td>\n",
       "      <td>12.50</td>\n",
       "      <td>13.0</td>\n",
       "    </tr>\n",
       "    <tr>\n",
       "      <th>malibu</th>\n",
       "      <td>5.0</td>\n",
       "      <td>18.800000</td>\n",
       "      <td>1.923538</td>\n",
       "      <td>17.0</td>\n",
       "      <td>18.00</td>\n",
       "      <td>18.0</td>\n",
       "      <td>19.00</td>\n",
       "      <td>22.0</td>\n",
       "    </tr>\n",
       "    <tr>\n",
       "      <th>maxima</th>\n",
       "      <td>3.0</td>\n",
       "      <td>18.666667</td>\n",
       "      <td>0.577350</td>\n",
       "      <td>18.0</td>\n",
       "      <td>18.50</td>\n",
       "      <td>19.0</td>\n",
       "      <td>19.00</td>\n",
       "      <td>19.0</td>\n",
       "    </tr>\n",
       "    <tr>\n",
       "      <th>mountaineer 4wd</th>\n",
       "      <td>4.0</td>\n",
       "      <td>13.250000</td>\n",
       "      <td>0.500000</td>\n",
       "      <td>13.0</td>\n",
       "      <td>13.00</td>\n",
       "      <td>13.0</td>\n",
       "      <td>13.25</td>\n",
       "      <td>14.0</td>\n",
       "    </tr>\n",
       "    <tr>\n",
       "      <th>mustang</th>\n",
       "      <td>9.0</td>\n",
       "      <td>15.888889</td>\n",
       "      <td>1.452966</td>\n",
       "      <td>14.0</td>\n",
       "      <td>15.00</td>\n",
       "      <td>15.0</td>\n",
       "      <td>17.00</td>\n",
       "      <td>18.0</td>\n",
       "    </tr>\n",
       "    <tr>\n",
       "      <th>navigator 2wd</th>\n",
       "      <td>3.0</td>\n",
       "      <td>11.333333</td>\n",
       "      <td>0.577350</td>\n",
       "      <td>11.0</td>\n",
       "      <td>11.00</td>\n",
       "      <td>11.0</td>\n",
       "      <td>11.50</td>\n",
       "      <td>12.0</td>\n",
       "    </tr>\n",
       "    <tr>\n",
       "      <th>new beetle</th>\n",
       "      <td>6.0</td>\n",
       "      <td>24.000000</td>\n",
       "      <td>6.511528</td>\n",
       "      <td>19.0</td>\n",
       "      <td>20.00</td>\n",
       "      <td>20.5</td>\n",
       "      <td>27.00</td>\n",
       "      <td>35.0</td>\n",
       "    </tr>\n",
       "    <tr>\n",
       "      <th>passat</th>\n",
       "      <td>7.0</td>\n",
       "      <td>18.571429</td>\n",
       "      <td>1.902379</td>\n",
       "      <td>16.0</td>\n",
       "      <td>17.50</td>\n",
       "      <td>18.0</td>\n",
       "      <td>20.00</td>\n",
       "      <td>21.0</td>\n",
       "    </tr>\n",
       "    <tr>\n",
       "      <th>pathfinder 4wd</th>\n",
       "      <td>4.0</td>\n",
       "      <td>13.750000</td>\n",
       "      <td>1.258306</td>\n",
       "      <td>12.0</td>\n",
       "      <td>13.50</td>\n",
       "      <td>14.0</td>\n",
       "      <td>14.25</td>\n",
       "      <td>15.0</td>\n",
       "    </tr>\n",
       "    <tr>\n",
       "      <th>ram 1500 pickup 4wd</th>\n",
       "      <td>10.0</td>\n",
       "      <td>11.400000</td>\n",
       "      <td>1.505545</td>\n",
       "      <td>9.0</td>\n",
       "      <td>11.00</td>\n",
       "      <td>11.5</td>\n",
       "      <td>12.75</td>\n",
       "      <td>13.0</td>\n",
       "    </tr>\n",
       "    <tr>\n",
       "      <th>range rover</th>\n",
       "      <td>4.0</td>\n",
       "      <td>11.500000</td>\n",
       "      <td>0.577350</td>\n",
       "      <td>11.0</td>\n",
       "      <td>11.00</td>\n",
       "      <td>11.5</td>\n",
       "      <td>12.00</td>\n",
       "      <td>12.0</td>\n",
       "    </tr>\n",
       "    <tr>\n",
       "      <th>sonata</th>\n",
       "      <td>7.0</td>\n",
       "      <td>19.000000</td>\n",
       "      <td>1.414214</td>\n",
       "      <td>18.0</td>\n",
       "      <td>18.00</td>\n",
       "      <td>18.0</td>\n",
       "      <td>20.00</td>\n",
       "      <td>21.0</td>\n",
       "    </tr>\n",
       "    <tr>\n",
       "      <th>tiburon</th>\n",
       "      <td>7.0</td>\n",
       "      <td>18.285714</td>\n",
       "      <td>1.603567</td>\n",
       "      <td>16.0</td>\n",
       "      <td>17.00</td>\n",
       "      <td>19.0</td>\n",
       "      <td>19.50</td>\n",
       "      <td>20.0</td>\n",
       "    </tr>\n",
       "    <tr>\n",
       "      <th>toyota tacoma 4wd</th>\n",
       "      <td>7.0</td>\n",
       "      <td>15.571429</td>\n",
       "      <td>0.786796</td>\n",
       "      <td>15.0</td>\n",
       "      <td>15.00</td>\n",
       "      <td>15.0</td>\n",
       "      <td>16.00</td>\n",
       "      <td>17.0</td>\n",
       "    </tr>\n",
       "  </tbody>\n",
       "</table>\n",
       "</div>"
      ],
      "text/plain": [
       "                         mpg                                                 \\\n",
       "                       count       mean       std   min    25%   50%    75%   \n",
       "model                                                                         \n",
       "4runner 4wd              6.0  15.166667  0.752773  14.0  15.00  15.0  15.75   \n",
       "a4                       7.0  18.857143  1.864454  16.0  18.00  18.0  20.50   \n",
       "a4 quattro               8.0  17.125000  1.807722  15.0  15.75  17.0  18.25   \n",
       "a6 quattro               3.0  16.000000  1.000000  15.0  15.50  16.0  16.50   \n",
       "altima                   6.0  20.666667  1.966384  19.0  19.00  20.0  22.50   \n",
       "c1500 suburban 2wd       5.0  12.800000  1.303840  11.0  12.00  13.0  14.00   \n",
       "camry                    7.0  19.857143  1.463850  18.0  18.50  21.0  21.00   \n",
       "camry solara             7.0  19.857143  1.772811  18.0  18.00  21.0  21.00   \n",
       "caravan 2wd             11.0  15.818182  1.834022  11.0  15.50  16.0  17.00   \n",
       "civic                    9.0  24.444444  1.943651  21.0  24.00  24.0  25.00   \n",
       "corolla                  5.0  25.600000  1.673320  24.0  24.00  26.0  26.00   \n",
       "corvette                 5.0  15.400000  0.547723  15.0  15.00  15.0  16.00   \n",
       "dakota pickup 4wd        9.0  12.777778  1.986063   9.0  11.00  14.0  14.00   \n",
       "durango 4wd              7.0  11.857143  1.573592   9.0  11.00  13.0  13.00   \n",
       "expedition 2wd           3.0  11.333333  0.577350  11.0  11.00  11.0  11.50   \n",
       "explorer 4wd             6.0  13.666667  0.816497  13.0  13.00  13.5  14.00   \n",
       "f150 pickup 4wd          7.0  13.000000  1.000000  11.0  13.00  13.0  13.50   \n",
       "forester awd             6.0  18.833333  0.983192  18.0  18.00  18.5  19.75   \n",
       "grand cherokee 4wd       8.0  13.500000  2.507133   9.0  12.50  14.0  15.00   \n",
       "grand prix               5.0  17.000000  1.000000  16.0  16.00  17.0  18.00   \n",
       "gti                      5.0  20.000000  2.000000  17.0  19.00  21.0  21.00   \n",
       "impreza awd              8.0  19.625000  0.744024  19.0  19.00  19.5  20.00   \n",
       "jetta                    9.0  21.222222  4.867694  16.0  19.00  21.0  21.00   \n",
       "k1500 tahoe 4wd          4.0  12.500000  1.732051  11.0  11.00  12.5  14.00   \n",
       "land cruiser wagon 4wd   2.0  12.000000  1.414214  11.0  11.50  12.0  12.50   \n",
       "malibu                   5.0  18.800000  1.923538  17.0  18.00  18.0  19.00   \n",
       "maxima                   3.0  18.666667  0.577350  18.0  18.50  19.0  19.00   \n",
       "mountaineer 4wd          4.0  13.250000  0.500000  13.0  13.00  13.0  13.25   \n",
       "mustang                  9.0  15.888889  1.452966  14.0  15.00  15.0  17.00   \n",
       "navigator 2wd            3.0  11.333333  0.577350  11.0  11.00  11.0  11.50   \n",
       "new beetle               6.0  24.000000  6.511528  19.0  20.00  20.5  27.00   \n",
       "passat                   7.0  18.571429  1.902379  16.0  17.50  18.0  20.00   \n",
       "pathfinder 4wd           4.0  13.750000  1.258306  12.0  13.50  14.0  14.25   \n",
       "ram 1500 pickup 4wd     10.0  11.400000  1.505545   9.0  11.00  11.5  12.75   \n",
       "range rover              4.0  11.500000  0.577350  11.0  11.00  11.5  12.00   \n",
       "sonata                   7.0  19.000000  1.414214  18.0  18.00  18.0  20.00   \n",
       "tiburon                  7.0  18.285714  1.603567  16.0  17.00  19.0  19.50   \n",
       "toyota tacoma 4wd        7.0  15.571429  0.786796  15.0  15.00  15.0  16.00   \n",
       "\n",
       "                              \n",
       "                         max  \n",
       "model                         \n",
       "4runner 4wd             16.0  \n",
       "a4                      21.0  \n",
       "a4 quattro              20.0  \n",
       "a6 quattro              17.0  \n",
       "altima                  23.0  \n",
       "c1500 suburban 2wd      14.0  \n",
       "camry                   21.0  \n",
       "camry solara            22.0  \n",
       "caravan 2wd             18.0  \n",
       "civic                   28.0  \n",
       "corolla                 28.0  \n",
       "corvette                16.0  \n",
       "dakota pickup 4wd       15.0  \n",
       "durango 4wd             13.0  \n",
       "expedition 2wd          12.0  \n",
       "explorer 4wd            15.0  \n",
       "f150 pickup 4wd         14.0  \n",
       "forester awd            20.0  \n",
       "grand cherokee 4wd      17.0  \n",
       "grand prix              18.0  \n",
       "gti                     22.0  \n",
       "impreza awd             21.0  \n",
       "jetta                   33.0  \n",
       "k1500 tahoe 4wd         14.0  \n",
       "land cruiser wagon 4wd  13.0  \n",
       "malibu                  22.0  \n",
       "maxima                  19.0  \n",
       "mountaineer 4wd         14.0  \n",
       "mustang                 18.0  \n",
       "navigator 2wd           12.0  \n",
       "new beetle              35.0  \n",
       "passat                  21.0  \n",
       "pathfinder 4wd          15.0  \n",
       "ram 1500 pickup 4wd     13.0  \n",
       "range rover             12.0  \n",
       "sonata                  21.0  \n",
       "tiburon                 20.0  \n",
       "toyota tacoma 4wd       17.0  "
      ]
     },
     "execution_count": 36,
     "metadata": {},
     "output_type": "execute_result"
    }
   ],
   "source": [
    "df = mycars[['model', 'mpg']]\n",
    "df.groupby('model').describe()"
   ]
  },
  {
   "cell_type": "code",
   "execution_count": 37,
   "metadata": {},
   "outputs": [],
   "source": [
    "QC1 = pd.read_csv(os.path.join(folder_path, 'EXH_QC1.csv'))\n",
    "df = QC1[['Flaws', 'Period']]\n",
    "count = df['Flaws'].value_counts().sort_index()\n",
    "cumcnt = np.cumsum(count)\n",
    "percent = count / sum(count) * 100\n",
    "cumpct = np.cumsum(percent)"
   ]
  },
  {
   "cell_type": "code",
   "execution_count": 38,
   "metadata": {},
   "outputs": [
    {
     "data": {
      "text/html": [
       "<div>\n",
       "<style scoped>\n",
       "    .dataframe tbody tr th:only-of-type {\n",
       "        vertical-align: middle;\n",
       "    }\n",
       "\n",
       "    .dataframe tbody tr th {\n",
       "        vertical-align: top;\n",
       "    }\n",
       "\n",
       "    .dataframe thead th {\n",
       "        text-align: right;\n",
       "    }\n",
       "</style>\n",
       "<table border=\"1\" class=\"dataframe\">\n",
       "  <thead>\n",
       "    <tr style=\"text-align: right;\">\n",
       "      <th>Flaws</th>\n",
       "      <th>Count</th>\n",
       "      <th>CumCnt</th>\n",
       "      <th>Percent</th>\n",
       "      <th>CumPct</th>\n",
       "    </tr>\n",
       "  </thead>\n",
       "  <tbody>\n",
       "    <tr>\n",
       "      <th>Other</th>\n",
       "      <td>6</td>\n",
       "      <td>6</td>\n",
       "      <td>15.0</td>\n",
       "      <td>15.0</td>\n",
       "    </tr>\n",
       "    <tr>\n",
       "      <th>Peel</th>\n",
       "      <td>15</td>\n",
       "      <td>21</td>\n",
       "      <td>37.5</td>\n",
       "      <td>52.5</td>\n",
       "    </tr>\n",
       "    <tr>\n",
       "      <th>Scratch</th>\n",
       "      <td>13</td>\n",
       "      <td>34</td>\n",
       "      <td>32.5</td>\n",
       "      <td>85.0</td>\n",
       "    </tr>\n",
       "    <tr>\n",
       "      <th>Smudge</th>\n",
       "      <td>6</td>\n",
       "      <td>40</td>\n",
       "      <td>15.0</td>\n",
       "      <td>100.0</td>\n",
       "    </tr>\n",
       "  </tbody>\n",
       "</table>\n",
       "</div>"
      ],
      "text/plain": [
       "Flaws    Count  CumCnt  Percent  CumPct\n",
       "Other        6       6     15.0    15.0\n",
       "Peel        15      21     37.5    52.5\n",
       "Scratch     13      34     32.5    85.0\n",
       "Smudge       6      40     15.0   100.0"
      ]
     },
     "execution_count": 38,
     "metadata": {},
     "output_type": "execute_result"
    }
   ],
   "source": [
    "count_data = pd.DataFrame({'Count': count, 'CumCnt': cumcnt, 'Percent': percent, 'CumPct': cumpct})\n",
    "count_data.columns.name='Flaws'\n",
    "count_data"
   ]
  },
  {
   "cell_type": "code",
   "execution_count": 39,
   "metadata": {},
   "outputs": [
    {
     "name": "stdout",
     "output_type": "stream",
     "text": [
      "135분 이상 걸리는 A/S 작업 비율:15.9%\n"
     ]
    }
   ],
   "source": [
    "mu = 115\n",
    "sigma = 20\n",
    "x = 135\n",
    "prob = stats.norm.cdf(x, mu, sigma)\n",
    "print(\"{0}분 이상 걸리는 A/S 작업 비율:{1:.1f}%\".format(x, (1-prob)*100))"
   ]
  },
  {
   "cell_type": "code",
   "execution_count": 40,
   "metadata": {},
   "outputs": [
    {
     "name": "stdout",
     "output_type": "stream",
     "text": [
      "12km 이상 15km 이하를 달릴 확률은 0.341에 해당함\n"
     ]
    }
   ],
   "source": [
    "mu = 12\n",
    "sigma = 3\n",
    "x1 = 15\n",
    "\n",
    "prob1 = stats.norm.cdf(x1, mu, sigma)\n",
    "print(\"{0}km 이상 {1}km 이하를 달릴 확률은 {2:.3f}에 해당함\".format(mu, x1, (prob1-0.5)))"
   ]
  },
  {
   "cell_type": "code",
   "execution_count": 41,
   "metadata": {},
   "outputs": [],
   "source": [
    "from scipy.stats import norm\n",
    "normal_distribution = norm()"
   ]
  },
  {
   "cell_type": "code",
   "execution_count": 42,
   "metadata": {},
   "outputs": [
    {
     "name": "stdout",
     "output_type": "stream",
     "text": [
      "P(T<=t): 0.907\n"
     ]
    }
   ],
   "source": [
    "t = 1.53\n",
    "df = 5\n",
    "\n",
    "prob = stats.t.cdf(t, df)\n",
    "print(\"P(T<=t): {:.3f}\".format(prob))"
   ]
  },
  {
   "cell_type": "code",
   "execution_count": 43,
   "metadata": {},
   "outputs": [
    {
     "name": "stdout",
     "output_type": "stream",
     "text": [
      "P(X<=10) : 0.0002\n"
     ]
    }
   ],
   "source": [
    "chisq = 10\n",
    "df = 30\n",
    "prob = stats.chi2.cdf(chisq, df)\n",
    "print(\"P(X<={0}) : {1:.4f}\".format(chisq,prob))"
   ]
  },
  {
   "cell_type": "code",
   "execution_count": 44,
   "metadata": {},
   "outputs": [
    {
     "name": "stdout",
     "output_type": "stream",
     "text": [
      "P(X<=F): 0.904\n"
     ]
    }
   ],
   "source": [
    "f = 2.0\n",
    "dfnum = 15\n",
    "dfden = 15\n",
    "\n",
    "prob = stats.f.cdf(x=f, dfn = dfnum, dfd = dfden)\n",
    "print(\"P(X<=F): {:.3f}\".format(prob))"
   ]
  },
  {
   "cell_type": "code",
   "execution_count": 45,
   "metadata": {},
   "outputs": [
    {
     "name": "stdout",
     "output_type": "stream",
     "text": [
      "P(X=0) = 0.216\n",
      "P(X=1) = 0.432\n",
      "P(X=2) = 0.288\n",
      "P(X=3) = 0.064\n"
     ]
    }
   ],
   "source": [
    "n = 3\n",
    "for i in range(n+1):\n",
    "    prob = stats.binom.pmf(k = i, n = n, p = 0.4)\n",
    "    print(\"P(X={0}) = {1:.3f}\".format(i, prob))"
   ]
  },
  {
   "cell_type": "code",
   "execution_count": 46,
   "metadata": {},
   "outputs": [
    {
     "data": {
      "text/plain": [
       "(0.9788166284561157, 0.1074606254696846)"
      ]
     },
     "execution_count": 46,
     "metadata": {},
     "output_type": "execute_result"
    }
   ],
   "source": [
    "df = pd.read_csv(os.path.join(folder_path, 'camshaft.csv'))\n",
    "df.head()\n",
    "\n",
    "statistic, p = stats.shapiro(df['Supp1'])\n",
    "statistic, p"
   ]
  },
  {
   "cell_type": "code",
   "execution_count": 47,
   "metadata": {},
   "outputs": [
    {
     "name": "stdout",
     "output_type": "stream",
     "text": [
      "Shapiro-Wilk Test: statistic=0.9788166284561157, p-value=0.1074606254696846\n"
     ]
    }
   ],
   "source": [
    "print(\"Shapiro-Wilk Test: statistic={}, p-value={}\".format(statistic, p))"
   ]
  },
  {
   "cell_type": "code",
   "execution_count": 48,
   "metadata": {},
   "outputs": [
    {
     "name": "stdout",
     "output_type": "stream",
     "text": [
      "신뢰구간: ([2.57], [2.82])\n"
     ]
    },
    {
     "name": "stderr",
     "output_type": "stream",
     "text": [
      "/home/piai/anaconda3/lib/python3.10/site-packages/numpy/core/fromnumeric.py:3430: FutureWarning: In a future version, DataFrame.mean(axis=None) will return a scalar mean over the entire DataFrame. To retain the old behavior, use 'frame.mean(axis=0)' or just 'frame.mean()'\n",
      "  return mean(axis=axis, dtype=dtype, out=out, **kwargs)\n"
     ]
    }
   ],
   "source": [
    "df = pd.DataFrame({\"sample\": [3.6, 2.9, 2.8, 2.6, 3.4, 3.2, 2.2, 2.6, 2.6, 2.4,\n",
    "                              2.4, 2.6, 3.4, 2.4, 2.1, 2.6, 3.0, 2.4, 2.7, 2.4,\n",
    "                              2.6, 2.9, 2.9, 2.0, 2.7, 2.2, 2.8, 2.7, 1.8, 2.5,\n",
    "                              3.0, 3.2, 2.8, 2.6, 3.2, 3.1, 2.9, 2.7, 2.7, 2.2]})\n",
    "df.head()\n",
    "lower, upper = stats.norm.interval(0.95, loc = np.mean(df), scale = 0.397/np.sqrt(40))\n",
    "print(\"신뢰구간: ({0}, {1})\".format(lower.round(2), upper.round(2)))"
   ]
  },
  {
   "cell_type": "code",
   "execution_count": 49,
   "metadata": {},
   "outputs": [
    {
     "name": "stdout",
     "output_type": "stream",
     "text": [
      "신뢰구간: ([54.39], [55.33])\n"
     ]
    },
    {
     "name": "stderr",
     "output_type": "stream",
     "text": [
      "/home/piai/anaconda3/lib/python3.10/site-packages/numpy/core/fromnumeric.py:3430: FutureWarning: In a future version, DataFrame.mean(axis=None) will return a scalar mean over the entire DataFrame. To retain the old behavior, use 'frame.mean(axis=0)' or just 'frame.mean()'\n",
      "  return mean(axis=axis, dtype=dtype, out=out, **kwargs)\n"
     ]
    }
   ],
   "source": [
    "df = pd.DataFrame({'sample': [54.1, 53.3, 56.1, 55.7, 54.0, 54.1, 54.5, 57.1, 55.2, 53.8,\n",
    "                              54.1, 54.1, 56.1, 55.0, 55.9, 56.0, 54.9, 54.3, 53.9, 55.0]})\n",
    "\n",
    "lower, upper = stats.t.interval(0.95, len(df)-1, loc = np.mean(df), scale = stats.sem(df))\n",
    "print(\"신뢰구간: ({0}, {1})\".format(lower.round(2), upper.round(2)))"
   ]
  },
  {
   "cell_type": "code",
   "execution_count": 50,
   "metadata": {},
   "outputs": [
    {
     "name": "stdout",
     "output_type": "stream",
     "text": [
      "statistic=0.9309006929397583, p-value=0.4568100869655609\n"
     ]
    },
    {
     "data": {
      "image/png": "[encoded data removed]",
      "text/plain": [
       "<Figure size 640x480 with 1 Axes>"
      ]
     },
     "metadata": {},
     "output_type": "display_data"
    }
   ],
   "source": [
    "df = pd.DataFrame({'satisfaction': [74.5, 81.2, 73.8, 82.0, 76.3, 75.7, 80.2, 72.6, 77.9, 82.7]})\n",
    "\n",
    "df.boxplot()\n",
    "\n",
    "statistic, p = stats.shapiro(df['satisfaction'])\n",
    "print(\"statistic={}, p-value={}\".format(statistic,p))"
   ]
  },
  {
   "cell_type": "code",
   "execution_count": 51,
   "metadata": {},
   "outputs": [
    {
     "name": "stdout",
     "output_type": "stream",
     "text": [
      "1-Sample t-test\n",
      "t통계량:[0.859]\n",
      "p-value:[0.412]\n"
     ]
    }
   ],
   "source": [
    "t_result = stats.ttest_1samp(df, 76.7)\n",
    "t, p = t_result.statistic.round(3), \\\n",
    "t_result.pvalue.round(3)\n",
    "\n",
    "print(\"1-Sample t-test\")\n",
    "print(\"t통계량:{}\".format(t))\n",
    "print(\"p-value:{}\".format(p))"
   ]
  },
  {
   "cell_type": "code",
   "execution_count": 52,
   "metadata": {},
   "outputs": [
    {
     "data": {
      "image/png": "[encoded data removed]",
      "text/plain": [
       "<Figure size 640x480 with 1 Axes>"
      ]
     },
     "metadata": {},
     "output_type": "display_data"
    }
   ],
   "source": [
    "df = pd.DataFrame({'A':[6, 5, 5, 4, 6, 7, 6, 4, 5, 6, 4, 5, 5, 6, 4, 8, 6, 5, 6, 7],\n",
    "                   'B': [7, 6, 7, 8, 7, 8, 8, 5, 7, 6, 5, 5, 6, 6, 5, 7, 9, 7, 7, 8]})\n",
    "\n",
    "df.boxplot(['A', 'B'])\n",
    "plt.show()"
   ]
  },
  {
   "cell_type": "code",
   "execution_count": 53,
   "metadata": {},
   "outputs": [
    {
     "name": "stdout",
     "output_type": "stream",
     "text": [
      "statistic=0.9094840288162231, p-value=0.06230909377336502\n",
      "statistic=0.914249062538147, p-value=0.07683517038822174\n"
     ]
    },
    {
     "data": {
      "text/plain": [
       "BartlettResult(statistic=0.07848064431469153, pvalue=0.7793670509889579)"
      ]
     },
     "execution_count": 53,
     "metadata": {},
     "output_type": "execute_result"
    }
   ],
   "source": [
    "statistic, p = stats.shapiro(df['A'])\n",
    "print('statistic={}, p-value={}'.format(statistic,p))\n",
    "statistic, p = stats.shapiro(df['B'])\n",
    "print('statistic={}, p-value={}'.format(statistic,p))\n",
    "stats.bartlett(df['A'], df['B'])"
   ]
  },
  {
   "cell_type": "code",
   "execution_count": 54,
   "metadata": {},
   "outputs": [
    {
     "name": "stdout",
     "output_type": "stream",
     "text": [
      "2-Sample t-test\n",
      "t:-3.335\n",
      "p:0.002\n"
     ]
    }
   ],
   "source": [
    "t_result = stats.ttest_ind(df['A'], df['B'], equal_var = True)\n",
    "t, p = t_result.statistic.round(3), t_result.pvalue.round(3)\n",
    "\n",
    "print(\"2-Sample t-test\")\n",
    "print(\"t:{}\".format(t))\n",
    "print(\"p:{}\".format(p))"
   ]
  },
  {
   "cell_type": "code",
   "execution_count": 55,
   "metadata": {},
   "outputs": [],
   "source": [
    "df1 = pd.DataFrame({'before': [720, 589, 780, 648, 720, 589, 780, 648, 780, 648]})\n",
    "df2 = pd.DataFrame({'after': [810, 670, 790, 712, 810, 670, 790, 712, 790, 712]})\n",
    "\n",
    "t_result = stats.ttest_rel(df1, df2)\n",
    "t, p = t_result.statistic.round(3), t_result.pvalue.round(3)"
   ]
  },
  {
   "cell_type": "code",
   "execution_count": 56,
   "metadata": {},
   "outputs": [
    {
     "name": "stdout",
     "output_type": "stream",
     "text": [
      "Paired t-test\n",
      "t:[-5.324]\n",
      "p:[0.]\n"
     ]
    }
   ],
   "source": [
    "print(\"Paired t-test\")\n",
    "print(\"t:{}\".format(t))\n",
    "print(\"p:{}\".format(p))"
   ]
  },
  {
   "cell_type": "code",
   "execution_count": 57,
   "metadata": {},
   "outputs": [],
   "source": [
    "count = 15\n",
    "n_obs = 100\n",
    "value = 0.1\n",
    "\n",
    "z, p =proportions_ztest(count, n_obs, value)"
   ]
  },
  {
   "cell_type": "code",
   "execution_count": 58,
   "metadata": {},
   "outputs": [
    {
     "name": "stdout",
     "output_type": "stream",
     "text": [
      "1 Proportion test\n",
      "z: 1.400\n",
      "p:0.161\n"
     ]
    }
   ],
   "source": [
    "print(\"1 Proportion test\")\n",
    "print(\"z: {0:0.3f}\".format(z))\n",
    "print(\"p:{0:0.3f}\".format(p))"
   ]
  },
  {
   "cell_type": "code",
   "execution_count": 59,
   "metadata": {},
   "outputs": [
    {
     "name": "stdout",
     "output_type": "stream",
     "text": [
      "2 Proportion test\n",
      "z:1.553\n",
      "p:0.120\n"
     ]
    }
   ],
   "source": [
    "count = np.array([4,1])\n",
    "nobs = np.array([1000, 1200])\n",
    "\n",
    "z, p = proportions_ztest(count, nobs)\n",
    "\n",
    "print(\"2 Proportion test\")\n",
    "print('z:{0:0.3f}'.format(z))\n",
    "print('p:{0:0.3f}'.format(p))"
   ]
  },
  {
   "cell_type": "code",
   "execution_count": 60,
   "metadata": {},
   "outputs": [
    {
     "name": "stdout",
     "output_type": "stream",
     "text": [
      "chi-square test\n",
      "chisq: 11.187\n",
      "p: 0.083\n",
      "degree pf freedom: 6\n",
      "expected value: \n",
      "[[245.763 281.017 234.576 238.644]\n",
      " [245.763 281.017 234.576 238.644]\n",
      " [233.475 266.966 222.847 226.712]]\n"
     ]
    }
   ],
   "source": [
    "df = pd.DataFrame({'Work_1':[270, 228, 227], 'Work_2':[260, 285, 284],\n",
    "                   'Work_3':[236, 225, 231], 'Work_4':[234,262,208]})\n",
    "\n",
    "chi, pval, dof, expected = stats.chi2_contingency(df)\n",
    "\n",
    "print(\"chi-square test\")\n",
    "print('chisq: {0:0.3f}'.format(chi))\n",
    "print('p: {0:0.3f}'.format(pval))\n",
    "print('degree pf freedom: {}'.format(dof))\n",
    "print('expected value: \\n{}'.format(expected.round(3)))"
   ]
  },
  {
   "cell_type": "code",
   "execution_count": 61,
   "metadata": {},
   "outputs": [
    {
     "data": {
      "text/plain": [
       "<Axes: >"
      ]
     },
     "execution_count": 61,
     "metadata": {},
     "output_type": "execute_result"
    },
    {
     "data": {
      "image/png": "[encoded data removed]",
      "text/plain": [
       "<Figure size 640x480 with 1 Axes>"
      ]
     },
     "metadata": {},
     "output_type": "display_data"
    }
   ],
   "source": [
    "df = pd.DataFrame({'A':[892, 623, 721, 678, 723, 790, 720, 670, 690, 771],\n",
    "                   'B':[721, 821, 910, 678, 723, 790, 711, 790, 745, 891],\n",
    "                   'C':[750, 915, 888, 721, 894, 834, 841, 912, 845, 889]})\n",
    "df.boxplot(['A','B','C'])"
   ]
  },
  {
   "cell_type": "code",
   "execution_count": 62,
   "metadata": {},
   "outputs": [
    {
     "name": "stdout",
     "output_type": "stream",
     "text": [
      "statistic=0.9293239712715149, p-value=0.4412756860256195\n",
      "\n",
      "statistic=0.924264669418335, p-value=0.39389991760253906\n",
      "\n",
      "statistic=0.8571338057518005, p-value=0.07058726251125336\n"
     ]
    }
   ],
   "source": [
    "statistic, p = stats.shapiro(df['A'])\n",
    "print(\"statistic={}, p-value={}\".format(statistic, p))\n",
    "print()\n",
    "statistic, p = stats.shapiro(df['B'])\n",
    "print(\"statistic={}, p-value={}\".format(statistic, p))\n",
    "print()\n",
    "statistic, p = stats.shapiro(df['C'])\n",
    "print(\"statistic={}, p-value={}\".format(statistic, p))"
   ]
  },
  {
   "cell_type": "code",
   "execution_count": 63,
   "metadata": {},
   "outputs": [
    {
     "name": "stdout",
     "output_type": "stream",
     "text": [
      "One-way ANOVA\n",
      "F 통계량: 6.884\n",
      "p-value: 0.004\n"
     ]
    }
   ],
   "source": [
    "f_result = stats.f_oneway(df['A'],df['B'],df['C'])\n",
    "\n",
    "f, p = f_result.statistic.round(3), \\\n",
    "        f_result.pvalue.round(3)\n",
    "\n",
    "print(\"One-way ANOVA\")\n",
    "print(\"F 통계량: {}\".format(f))\n",
    "print(\"p-value: {}\".format(p))"
   ]
  },
  {
   "cell_type": "code",
   "execution_count": 64,
   "metadata": {},
   "outputs": [
    {
     "name": "stdout",
     "output_type": "stream",
     "text": [
      "Correlation Analysis \n",
      "corr:0.989\n",
      "p-value : 0.000\n"
     ]
    }
   ],
   "source": [
    "df1 = [1,2,3,4,4,5,6,6,7,8]\n",
    "df2 = [23, 29, 49, 64, 74, 87, 96, 97, 109, 119]\n",
    "\n",
    "corr, pval = stats.pearsonr(df1, df2)\n",
    "\n",
    "print(\"Correlation Analysis \")\n",
    "print(\"corr:{0:0.3f}\".format(corr))\n",
    "print(\"p-value : {0:0.3f}\".format(pval))"
   ]
  }
 ],
 "metadata": {
  "kernelspec": {
   "display_name": "base",
   "language": "python",
   "name": "python3"
  },
  "language_info": {
   "codemirror_mode": {
    "name": "ipython",
    "version": 3
   },
   "file_extension": ".py",
   "mimetype": "text/x-python",
   "name": "python",
   "nbconvert_exporter": "python",
   "pygments_lexer": "ipython3",
   "version": "3.10.13"
  }
 },
 "nbformat": 4,
 "nbformat_minor": 2
}
